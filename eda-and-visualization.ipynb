{
 "cells": [
  {
   "cell_type": "markdown",
   "metadata": {
    "papermill": {
     "duration": 0.029654,
     "end_time": "2021-02-24T07:08:52.789097",
     "exception": false,
     "start_time": "2021-02-24T07:08:52.759443",
     "status": "completed"
    },
    "tags": []
   },
   "source": [
    "<center><h1> Data Visualization and Exploratory Data Analysis for <i>'COVID-19 - Clinical Data to assess diagnosis'</i> Data </h1></center>\n",
    "\n",
    "<br>\n",
    "<br>\n",
    "\n",
    "<img src=\"https://media.giphy.com/media/SgoRoQa9jO83C/giphy.gif\">\n",
    "\n",
    "<br>\n",
    "<br>\n",
    "\n",
    "\n",
    "*Please feel free to reach out regarding any questions, comments or concerns.* \n",
    "*Open for discussions and corrections too.*\n",
    "\n",
    "**Note** : '##' indicates insights derived from the plot or analysis and '#' indicates general comments.\n",
    "\n"
   ]
  },
  {
   "cell_type": "code",
   "execution_count": 1,
   "metadata": {
    "_cell_guid": "b1076dfc-b9ad-4769-8c92-a6c4dae69d19",
    "_uuid": "8f2839f25d086af736a60e9eeb907d3b93b6e0e5",
    "execution": {
     "iopub.execute_input": "2021-02-24T07:08:52.847271Z",
     "iopub.status.busy": "2021-02-24T07:08:52.846617Z",
     "iopub.status.idle": "2021-02-24T07:08:53.562046Z",
     "shell.execute_reply": "2021-02-24T07:08:53.561250Z"
    },
    "papermill": {
     "duration": 0.745326,
     "end_time": "2021-02-24T07:08:53.562236",
     "exception": false,
     "start_time": "2021-02-24T07:08:52.816910",
     "status": "completed"
    },
    "tags": []
   },
   "outputs": [],
   "source": [
    "# import seaborn and matplotlib - data visualization libraries\n",
    "import seaborn as sns\n",
    "import matplotlib.pyplot as plt\n",
    "import numpy as np \n",
    "# import pandas - data processing\n",
    "import pandas as pd \n",
    "import os\n"
   ]
  },
  {
   "cell_type": "code",
   "execution_count": 2,
   "metadata": {
    "execution": {
     "iopub.execute_input": "2021-02-24T07:08:53.620060Z",
     "iopub.status.busy": "2021-02-24T07:08:53.619392Z",
     "iopub.status.idle": "2021-02-24T07:09:03.626003Z",
     "shell.execute_reply": "2021-02-24T07:09:03.625226Z"
    },
    "papermill": {
     "duration": 10.03753,
     "end_time": "2021-02-24T07:09:03.626151",
     "exception": false,
     "start_time": "2021-02-24T07:08:53.588621",
     "status": "completed"
    },
    "tags": []
   },
   "outputs": [
    {
     "name": "stdout",
     "output_type": "stream",
     "text": [
      "Collecting openpyxl\r\n",
      "  Downloading openpyxl-3.0.6-py2.py3-none-any.whl (242 kB)\r\n",
      "\u001b[K     |████████████████████████████████| 242 kB 1.3 MB/s \r\n",
      "\u001b[?25hCollecting et-xmlfile\r\n",
      "  Downloading et_xmlfile-1.0.1.tar.gz (8.4 kB)\r\n",
      "Collecting jdcal\r\n",
      "  Downloading jdcal-1.4.1-py2.py3-none-any.whl (9.5 kB)\r\n",
      "Building wheels for collected packages: et-xmlfile\r\n",
      "  Building wheel for et-xmlfile (setup.py) ... \u001b[?25l-\b \b\\\b \bdone\r\n",
      "\u001b[?25h  Created wheel for et-xmlfile: filename=et_xmlfile-1.0.1-py3-none-any.whl size=8913 sha256=7ab2a18058f167e4551373d363b6ca9663849110304f79f32f86dcdfa135c2e2\r\n",
      "  Stored in directory: /root/.cache/pip/wheels/e2/bd/55/048b4fd505716c4c298f42ee02dffd9496bb6d212b266c7f31\r\n",
      "Successfully built et-xmlfile\r\n",
      "Installing collected packages: jdcal, et-xmlfile, openpyxl\r\n",
      "Successfully installed et-xmlfile-1.0.1 jdcal-1.4.1 openpyxl-3.0.6\r\n"
     ]
    }
   ],
   "source": [
    "# to read/write Excel 2010 xlsx/xlsm/xltx/xltm files.\n",
    "!pip install openpyxl"
   ]
  },
  {
   "cell_type": "code",
   "execution_count": 3,
   "metadata": {
    "execution": {
     "iopub.execute_input": "2021-02-24T07:09:03.691421Z",
     "iopub.status.busy": "2021-02-24T07:09:03.690778Z",
     "iopub.status.idle": "2021-02-24T07:09:09.468129Z",
     "shell.execute_reply": "2021-02-24T07:09:09.467656Z"
    },
    "papermill": {
     "duration": 5.812288,
     "end_time": "2021-02-24T07:09:09.468263",
     "exception": false,
     "start_time": "2021-02-24T07:09:03.655975",
     "status": "completed"
    },
    "tags": []
   },
   "outputs": [],
   "source": [
    "# read the data from excel file\n",
    "data = pd.read_excel(\"/kaggle/input/covid19/Kaggle_Sirio_Libanes_ICU_Prediction.xlsx\")"
   ]
  },
  {
   "cell_type": "code",
   "execution_count": 4,
   "metadata": {
    "execution": {
     "iopub.execute_input": "2021-02-24T07:09:09.547028Z",
     "iopub.status.busy": "2021-02-24T07:09:09.546332Z",
     "iopub.status.idle": "2021-02-24T07:09:09.575433Z",
     "shell.execute_reply": "2021-02-24T07:09:09.575939Z"
    },
    "papermill": {
     "duration": 0.077418,
     "end_time": "2021-02-24T07:09:09.576097",
     "exception": false,
     "start_time": "2021-02-24T07:09:09.498679",
     "status": "completed"
    },
    "tags": []
   },
   "outputs": [
    {
     "data": {
      "text/html": [
       "<div>\n",
       "<style scoped>\n",
       "    .dataframe tbody tr th:only-of-type {\n",
       "        vertical-align: middle;\n",
       "    }\n",
       "\n",
       "    .dataframe tbody tr th {\n",
       "        vertical-align: top;\n",
       "    }\n",
       "\n",
       "    .dataframe thead th {\n",
       "        text-align: right;\n",
       "    }\n",
       "</style>\n",
       "<table border=\"1\" class=\"dataframe\">\n",
       "  <thead>\n",
       "    <tr style=\"text-align: right;\">\n",
       "      <th></th>\n",
       "      <th>PATIENT_VISIT_IDENTIFIER</th>\n",
       "      <th>AGE_ABOVE65</th>\n",
       "      <th>AGE_PERCENTIL</th>\n",
       "      <th>GENDER</th>\n",
       "      <th>DISEASE GROUPING 1</th>\n",
       "      <th>DISEASE GROUPING 2</th>\n",
       "      <th>DISEASE GROUPING 3</th>\n",
       "      <th>DISEASE GROUPING 4</th>\n",
       "      <th>DISEASE GROUPING 5</th>\n",
       "      <th>DISEASE GROUPING 6</th>\n",
       "      <th>...</th>\n",
       "      <th>TEMPERATURE_DIFF</th>\n",
       "      <th>OXYGEN_SATURATION_DIFF</th>\n",
       "      <th>BLOODPRESSURE_DIASTOLIC_DIFF_REL</th>\n",
       "      <th>BLOODPRESSURE_SISTOLIC_DIFF_REL</th>\n",
       "      <th>HEART_RATE_DIFF_REL</th>\n",
       "      <th>RESPIRATORY_RATE_DIFF_REL</th>\n",
       "      <th>TEMPERATURE_DIFF_REL</th>\n",
       "      <th>OXYGEN_SATURATION_DIFF_REL</th>\n",
       "      <th>WINDOW</th>\n",
       "      <th>ICU</th>\n",
       "    </tr>\n",
       "  </thead>\n",
       "  <tbody>\n",
       "    <tr>\n",
       "      <th>0</th>\n",
       "      <td>0</td>\n",
       "      <td>1</td>\n",
       "      <td>60th</td>\n",
       "      <td>0</td>\n",
       "      <td>0.0</td>\n",
       "      <td>0.0</td>\n",
       "      <td>0.0</td>\n",
       "      <td>0.0</td>\n",
       "      <td>1.0</td>\n",
       "      <td>1.0</td>\n",
       "      <td>...</td>\n",
       "      <td>-1.000000</td>\n",
       "      <td>-1.000000</td>\n",
       "      <td>-1.000000</td>\n",
       "      <td>-1.000000</td>\n",
       "      <td>-1.000000</td>\n",
       "      <td>-1.000000</td>\n",
       "      <td>-1.000000</td>\n",
       "      <td>-1.000000</td>\n",
       "      <td>0-2</td>\n",
       "      <td>0</td>\n",
       "    </tr>\n",
       "    <tr>\n",
       "      <th>1</th>\n",
       "      <td>0</td>\n",
       "      <td>1</td>\n",
       "      <td>60th</td>\n",
       "      <td>0</td>\n",
       "      <td>0.0</td>\n",
       "      <td>0.0</td>\n",
       "      <td>0.0</td>\n",
       "      <td>0.0</td>\n",
       "      <td>1.0</td>\n",
       "      <td>1.0</td>\n",
       "      <td>...</td>\n",
       "      <td>-1.000000</td>\n",
       "      <td>-1.000000</td>\n",
       "      <td>-1.000000</td>\n",
       "      <td>-1.000000</td>\n",
       "      <td>-1.000000</td>\n",
       "      <td>-1.000000</td>\n",
       "      <td>-1.000000</td>\n",
       "      <td>-1.000000</td>\n",
       "      <td>2-4</td>\n",
       "      <td>0</td>\n",
       "    </tr>\n",
       "    <tr>\n",
       "      <th>2</th>\n",
       "      <td>0</td>\n",
       "      <td>1</td>\n",
       "      <td>60th</td>\n",
       "      <td>0</td>\n",
       "      <td>0.0</td>\n",
       "      <td>0.0</td>\n",
       "      <td>0.0</td>\n",
       "      <td>0.0</td>\n",
       "      <td>1.0</td>\n",
       "      <td>1.0</td>\n",
       "      <td>...</td>\n",
       "      <td>NaN</td>\n",
       "      <td>NaN</td>\n",
       "      <td>NaN</td>\n",
       "      <td>NaN</td>\n",
       "      <td>NaN</td>\n",
       "      <td>NaN</td>\n",
       "      <td>NaN</td>\n",
       "      <td>NaN</td>\n",
       "      <td>4-6</td>\n",
       "      <td>0</td>\n",
       "    </tr>\n",
       "    <tr>\n",
       "      <th>3</th>\n",
       "      <td>0</td>\n",
       "      <td>1</td>\n",
       "      <td>60th</td>\n",
       "      <td>0</td>\n",
       "      <td>0.0</td>\n",
       "      <td>0.0</td>\n",
       "      <td>0.0</td>\n",
       "      <td>0.0</td>\n",
       "      <td>1.0</td>\n",
       "      <td>1.0</td>\n",
       "      <td>...</td>\n",
       "      <td>-1.000000</td>\n",
       "      <td>-1.000000</td>\n",
       "      <td>NaN</td>\n",
       "      <td>NaN</td>\n",
       "      <td>NaN</td>\n",
       "      <td>NaN</td>\n",
       "      <td>-1.000000</td>\n",
       "      <td>-1.000000</td>\n",
       "      <td>6-12</td>\n",
       "      <td>0</td>\n",
       "    </tr>\n",
       "    <tr>\n",
       "      <th>4</th>\n",
       "      <td>0</td>\n",
       "      <td>1</td>\n",
       "      <td>60th</td>\n",
       "      <td>0</td>\n",
       "      <td>0.0</td>\n",
       "      <td>0.0</td>\n",
       "      <td>0.0</td>\n",
       "      <td>0.0</td>\n",
       "      <td>1.0</td>\n",
       "      <td>1.0</td>\n",
       "      <td>...</td>\n",
       "      <td>-0.238095</td>\n",
       "      <td>-0.818182</td>\n",
       "      <td>-0.389967</td>\n",
       "      <td>0.407558</td>\n",
       "      <td>-0.230462</td>\n",
       "      <td>0.096774</td>\n",
       "      <td>-0.242282</td>\n",
       "      <td>-0.814433</td>\n",
       "      <td>ABOVE_12</td>\n",
       "      <td>1</td>\n",
       "    </tr>\n",
       "  </tbody>\n",
       "</table>\n",
       "<p>5 rows × 231 columns</p>\n",
       "</div>"
      ],
      "text/plain": [
       "   PATIENT_VISIT_IDENTIFIER  AGE_ABOVE65 AGE_PERCENTIL  GENDER  \\\n",
       "0                         0            1          60th       0   \n",
       "1                         0            1          60th       0   \n",
       "2                         0            1          60th       0   \n",
       "3                         0            1          60th       0   \n",
       "4                         0            1          60th       0   \n",
       "\n",
       "   DISEASE GROUPING 1  DISEASE GROUPING 2  DISEASE GROUPING 3  \\\n",
       "0                 0.0                 0.0                 0.0   \n",
       "1                 0.0                 0.0                 0.0   \n",
       "2                 0.0                 0.0                 0.0   \n",
       "3                 0.0                 0.0                 0.0   \n",
       "4                 0.0                 0.0                 0.0   \n",
       "\n",
       "   DISEASE GROUPING 4  DISEASE GROUPING 5  DISEASE GROUPING 6  ...  \\\n",
       "0                 0.0                 1.0                 1.0  ...   \n",
       "1                 0.0                 1.0                 1.0  ...   \n",
       "2                 0.0                 1.0                 1.0  ...   \n",
       "3                 0.0                 1.0                 1.0  ...   \n",
       "4                 0.0                 1.0                 1.0  ...   \n",
       "\n",
       "   TEMPERATURE_DIFF  OXYGEN_SATURATION_DIFF  BLOODPRESSURE_DIASTOLIC_DIFF_REL  \\\n",
       "0         -1.000000               -1.000000                         -1.000000   \n",
       "1         -1.000000               -1.000000                         -1.000000   \n",
       "2               NaN                     NaN                               NaN   \n",
       "3         -1.000000               -1.000000                               NaN   \n",
       "4         -0.238095               -0.818182                         -0.389967   \n",
       "\n",
       "   BLOODPRESSURE_SISTOLIC_DIFF_REL  HEART_RATE_DIFF_REL  \\\n",
       "0                        -1.000000            -1.000000   \n",
       "1                        -1.000000            -1.000000   \n",
       "2                              NaN                  NaN   \n",
       "3                              NaN                  NaN   \n",
       "4                         0.407558            -0.230462   \n",
       "\n",
       "   RESPIRATORY_RATE_DIFF_REL  TEMPERATURE_DIFF_REL  \\\n",
       "0                  -1.000000             -1.000000   \n",
       "1                  -1.000000             -1.000000   \n",
       "2                        NaN                   NaN   \n",
       "3                        NaN             -1.000000   \n",
       "4                   0.096774             -0.242282   \n",
       "\n",
       "   OXYGEN_SATURATION_DIFF_REL    WINDOW  ICU  \n",
       "0                   -1.000000       0-2    0  \n",
       "1                   -1.000000       2-4    0  \n",
       "2                         NaN       4-6    0  \n",
       "3                   -1.000000      6-12    0  \n",
       "4                   -0.814433  ABOVE_12    1  \n",
       "\n",
       "[5 rows x 231 columns]"
      ]
     },
     "execution_count": 4,
     "metadata": {},
     "output_type": "execute_result"
    }
   ],
   "source": [
    "# first look at the data\n",
    "data.head()"
   ]
  },
  {
   "cell_type": "code",
   "execution_count": 5,
   "metadata": {
    "execution": {
     "iopub.execute_input": "2021-02-24T07:09:09.644898Z",
     "iopub.status.busy": "2021-02-24T07:09:09.643978Z",
     "iopub.status.idle": "2021-02-24T07:09:09.647317Z",
     "shell.execute_reply": "2021-02-24T07:09:09.647816Z"
    },
    "papermill": {
     "duration": 0.039694,
     "end_time": "2021-02-24T07:09:09.647974",
     "exception": false,
     "start_time": "2021-02-24T07:09:09.608280",
     "status": "completed"
    },
    "tags": []
   },
   "outputs": [
    {
     "name": "stdout",
     "output_type": "stream",
     "text": [
      "(1925, 231)\n",
      "This dataset has  1925  rows and  231  columns.\n"
     ]
    }
   ],
   "source": [
    "# 231 features/columns and 1925 rows\n",
    "print(data.shape)\n",
    "\n",
    "print(\"This dataset has \", data.shape[0], \" rows and \", data.shape[1], \" columns.\")"
   ]
  },
  {
   "cell_type": "markdown",
   "metadata": {
    "papermill": {
     "duration": 0.031568,
     "end_time": "2021-02-24T07:09:09.711307",
     "exception": false,
     "start_time": "2021-02-24T07:09:09.679739",
     "status": "completed"
    },
    "tags": []
   },
   "source": [
    "<center><h1>PREPROCESSING</h1></center>"
   ]
  },
  {
   "cell_type": "code",
   "execution_count": 6,
   "metadata": {
    "execution": {
     "iopub.execute_input": "2021-02-24T07:09:09.779316Z",
     "iopub.status.busy": "2021-02-24T07:09:09.778727Z",
     "iopub.status.idle": "2021-02-24T07:09:09.781422Z",
     "shell.execute_reply": "2021-02-24T07:09:09.780855Z"
    },
    "papermill": {
     "duration": 0.039133,
     "end_time": "2021-02-24T07:09:09.781564",
     "exception": false,
     "start_time": "2021-02-24T07:09:09.742431",
     "status": "completed"
    },
    "tags": []
   },
   "outputs": [],
   "source": [
    "# utility function to print columns with number of NA values it has\n",
    "def print_na(df):\n",
    "    for i in range(df.isna().sum().shape[0]):\n",
    "        f = df.isna().sum().index[i]\n",
    "        v = df.isna().sum()[i]\n",
    "        print(f, \" : \", v)"
   ]
  },
  {
   "cell_type": "code",
   "execution_count": 7,
   "metadata": {
    "execution": {
     "iopub.execute_input": "2021-02-24T07:09:09.849347Z",
     "iopub.status.busy": "2021-02-24T07:09:09.848718Z",
     "iopub.status.idle": "2021-02-24T07:09:11.248386Z",
     "shell.execute_reply": "2021-02-24T07:09:11.247035Z"
    },
    "papermill": {
     "duration": 1.435873,
     "end_time": "2021-02-24T07:09:11.248548",
     "exception": false,
     "start_time": "2021-02-24T07:09:09.812675",
     "status": "completed"
    },
    "tags": []
   },
   "outputs": [
    {
     "name": "stdout",
     "output_type": "stream",
     "text": [
      "PATIENT_VISIT_IDENTIFIER  :  0\n",
      "AGE_ABOVE65  :  0\n",
      "AGE_PERCENTIL  :  0\n",
      "GENDER  :  0\n",
      "DISEASE GROUPING 1  :  5\n",
      "DISEASE GROUPING 2  :  5\n",
      "DISEASE GROUPING 3  :  5\n",
      "DISEASE GROUPING 4  :  5\n",
      "DISEASE GROUPING 5  :  5\n",
      "DISEASE GROUPING 6  :  5\n",
      "HTN  :  5\n",
      "IMMUNOCOMPROMISED  :  5\n",
      "OTHER  :  5\n",
      "ALBUMIN_MEDIAN  :  1104\n",
      "ALBUMIN_MEAN  :  1104\n",
      "ALBUMIN_MIN  :  1104\n",
      "ALBUMIN_MAX  :  1104\n",
      "ALBUMIN_DIFF  :  1104\n",
      "BE_ARTERIAL_MEDIAN  :  1104\n",
      "BE_ARTERIAL_MEAN  :  1104\n",
      "BE_ARTERIAL_MIN  :  1104\n",
      "BE_ARTERIAL_MAX  :  1104\n",
      "BE_ARTERIAL_DIFF  :  1104\n",
      "BE_VENOUS_MEDIAN  :  1104\n",
      "BE_VENOUS_MEAN  :  1104\n",
      "BE_VENOUS_MIN  :  1104\n",
      "BE_VENOUS_MAX  :  1104\n",
      "BE_VENOUS_DIFF  :  1104\n",
      "BIC_ARTERIAL_MEDIAN  :  1104\n",
      "BIC_ARTERIAL_MEAN  :  1104\n",
      "BIC_ARTERIAL_MIN  :  1104\n",
      "BIC_ARTERIAL_MAX  :  1104\n",
      "BIC_ARTERIAL_DIFF  :  1104\n",
      "BIC_VENOUS_MEDIAN  :  1104\n",
      "BIC_VENOUS_MEAN  :  1104\n",
      "BIC_VENOUS_MIN  :  1104\n",
      "BIC_VENOUS_MAX  :  1104\n",
      "BIC_VENOUS_DIFF  :  1104\n",
      "BILLIRUBIN_MEDIAN  :  1104\n",
      "BILLIRUBIN_MEAN  :  1104\n",
      "BILLIRUBIN_MIN  :  1104\n",
      "BILLIRUBIN_MAX  :  1104\n",
      "BILLIRUBIN_DIFF  :  1104\n",
      "BLAST_MEDIAN  :  1104\n",
      "BLAST_MEAN  :  1104\n",
      "BLAST_MIN  :  1104\n",
      "BLAST_MAX  :  1104\n",
      "BLAST_DIFF  :  1104\n",
      "CALCIUM_MEDIAN  :  1104\n",
      "CALCIUM_MEAN  :  1104\n",
      "CALCIUM_MIN  :  1104\n",
      "CALCIUM_MAX  :  1104\n",
      "CALCIUM_DIFF  :  1104\n",
      "CREATININ_MEDIAN  :  1104\n",
      "CREATININ_MEAN  :  1104\n",
      "CREATININ_MIN  :  1104\n",
      "CREATININ_MAX  :  1104\n",
      "CREATININ_DIFF  :  1104\n",
      "FFA_MEDIAN  :  1104\n",
      "FFA_MEAN  :  1104\n",
      "FFA_MIN  :  1104\n",
      "FFA_MAX  :  1104\n",
      "FFA_DIFF  :  1104\n",
      "GGT_MEDIAN  :  1104\n",
      "GGT_MEAN  :  1104\n",
      "GGT_MIN  :  1104\n",
      "GGT_MAX  :  1104\n",
      "GGT_DIFF  :  1104\n",
      "GLUCOSE_MEDIAN  :  1104\n",
      "GLUCOSE_MEAN  :  1104\n",
      "GLUCOSE_MIN  :  1104\n",
      "GLUCOSE_MAX  :  1104\n",
      "GLUCOSE_DIFF  :  1104\n",
      "HEMATOCRITE_MEDIAN  :  1104\n",
      "HEMATOCRITE_MEAN  :  1104\n",
      "HEMATOCRITE_MIN  :  1104\n",
      "HEMATOCRITE_MAX  :  1104\n",
      "HEMATOCRITE_DIFF  :  1104\n",
      "HEMOGLOBIN_MEDIAN  :  1104\n",
      "HEMOGLOBIN_MEAN  :  1104\n",
      "HEMOGLOBIN_MIN  :  1104\n",
      "HEMOGLOBIN_MAX  :  1104\n",
      "HEMOGLOBIN_DIFF  :  1104\n",
      "INR_MEDIAN  :  1104\n",
      "INR_MEAN  :  1104\n",
      "INR_MIN  :  1104\n",
      "INR_MAX  :  1104\n",
      "INR_DIFF  :  1104\n",
      "LACTATE_MEDIAN  :  1104\n",
      "LACTATE_MEAN  :  1104\n",
      "LACTATE_MIN  :  1104\n",
      "LACTATE_MAX  :  1104\n",
      "LACTATE_DIFF  :  1104\n",
      "LEUKOCYTES_MEDIAN  :  1104\n",
      "LEUKOCYTES_MEAN  :  1104\n",
      "LEUKOCYTES_MIN  :  1104\n",
      "LEUKOCYTES_MAX  :  1104\n",
      "LEUKOCYTES_DIFF  :  1104\n",
      "LINFOCITOS_MEDIAN  :  1104\n",
      "LINFOCITOS_MEAN  :  1104\n",
      "LINFOCITOS_MIN  :  1104\n",
      "LINFOCITOS_MAX  :  1104\n",
      "LINFOCITOS_DIFF  :  1104\n",
      "NEUTROPHILES_MEDIAN  :  1104\n",
      "NEUTROPHILES_MEAN  :  1104\n",
      "NEUTROPHILES_MIN  :  1104\n",
      "NEUTROPHILES_MAX  :  1104\n",
      "NEUTROPHILES_DIFF  :  1104\n",
      "P02_ARTERIAL_MEDIAN  :  1104\n",
      "P02_ARTERIAL_MEAN  :  1104\n",
      "P02_ARTERIAL_MIN  :  1104\n",
      "P02_ARTERIAL_MAX  :  1104\n",
      "P02_ARTERIAL_DIFF  :  1104\n",
      "P02_VENOUS_MEDIAN  :  1104\n",
      "P02_VENOUS_MEAN  :  1104\n",
      "P02_VENOUS_MIN  :  1104\n",
      "P02_VENOUS_MAX  :  1104\n",
      "P02_VENOUS_DIFF  :  1104\n",
      "PC02_ARTERIAL_MEDIAN  :  1104\n",
      "PC02_ARTERIAL_MEAN  :  1104\n",
      "PC02_ARTERIAL_MIN  :  1104\n",
      "PC02_ARTERIAL_MAX  :  1104\n",
      "PC02_ARTERIAL_DIFF  :  1104\n",
      "PC02_VENOUS_MEDIAN  :  1104\n",
      "PC02_VENOUS_MEAN  :  1104\n",
      "PC02_VENOUS_MIN  :  1104\n",
      "PC02_VENOUS_MAX  :  1104\n",
      "PC02_VENOUS_DIFF  :  1104\n",
      "PCR_MEDIAN  :  1104\n",
      "PCR_MEAN  :  1104\n",
      "PCR_MIN  :  1104\n",
      "PCR_MAX  :  1104\n",
      "PCR_DIFF  :  1104\n",
      "PH_ARTERIAL_MEDIAN  :  1104\n",
      "PH_ARTERIAL_MEAN  :  1104\n",
      "PH_ARTERIAL_MIN  :  1104\n",
      "PH_ARTERIAL_MAX  :  1104\n",
      "PH_ARTERIAL_DIFF  :  1104\n",
      "PH_VENOUS_MEDIAN  :  1104\n",
      "PH_VENOUS_MEAN  :  1104\n",
      "PH_VENOUS_MIN  :  1104\n",
      "PH_VENOUS_MAX  :  1104\n",
      "PH_VENOUS_DIFF  :  1104\n",
      "PLATELETS_MEDIAN  :  1104\n",
      "PLATELETS_MEAN  :  1104\n",
      "PLATELETS_MIN  :  1104\n",
      "PLATELETS_MAX  :  1104\n",
      "PLATELETS_DIFF  :  1104\n",
      "POTASSIUM_MEDIAN  :  1104\n",
      "POTASSIUM_MEAN  :  1104\n",
      "POTASSIUM_MIN  :  1104\n",
      "POTASSIUM_MAX  :  1104\n",
      "POTASSIUM_DIFF  :  1104\n",
      "SAT02_ARTERIAL_MEDIAN  :  1104\n",
      "SAT02_ARTERIAL_MEAN  :  1104\n",
      "SAT02_ARTERIAL_MIN  :  1104\n",
      "SAT02_ARTERIAL_MAX  :  1104\n",
      "SAT02_ARTERIAL_DIFF  :  1104\n",
      "SAT02_VENOUS_MEDIAN  :  1104\n",
      "SAT02_VENOUS_MEAN  :  1104\n",
      "SAT02_VENOUS_MIN  :  1104\n",
      "SAT02_VENOUS_MAX  :  1104\n",
      "SAT02_VENOUS_DIFF  :  1104\n",
      "SODIUM_MEDIAN  :  1104\n",
      "SODIUM_MEAN  :  1104\n",
      "SODIUM_MIN  :  1104\n",
      "SODIUM_MAX  :  1104\n",
      "SODIUM_DIFF  :  1104\n",
      "TGO_MEDIAN  :  1104\n",
      "TGO_MEAN  :  1104\n",
      "TGO_MIN  :  1104\n",
      "TGO_MAX  :  1104\n",
      "TGO_DIFF  :  1104\n",
      "TGP_MEDIAN  :  1104\n",
      "TGP_MEAN  :  1104\n",
      "TGP_MIN  :  1104\n",
      "TGP_MAX  :  1104\n",
      "TGP_DIFF  :  1104\n",
      "TTPA_MEDIAN  :  1104\n",
      "TTPA_MEAN  :  1104\n",
      "TTPA_MIN  :  1104\n",
      "TTPA_MAX  :  1104\n",
      "TTPA_DIFF  :  1104\n",
      "UREA_MEDIAN  :  1104\n",
      "UREA_MEAN  :  1104\n",
      "UREA_MIN  :  1104\n",
      "UREA_MAX  :  1104\n",
      "UREA_DIFF  :  1104\n",
      "DIMER_MEDIAN  :  1104\n",
      "DIMER_MEAN  :  1104\n",
      "DIMER_MIN  :  1104\n",
      "DIMER_MAX  :  1104\n",
      "DIMER_DIFF  :  1104\n",
      "BLOODPRESSURE_DIASTOLIC_MEAN  :  685\n",
      "BLOODPRESSURE_SISTOLIC_MEAN  :  685\n",
      "HEART_RATE_MEAN  :  685\n",
      "RESPIRATORY_RATE_MEAN  :  748\n",
      "TEMPERATURE_MEAN  :  694\n",
      "OXYGEN_SATURATION_MEAN  :  686\n",
      "BLOODPRESSURE_DIASTOLIC_MEDIAN  :  685\n",
      "BLOODPRESSURE_SISTOLIC_MEDIAN  :  685\n",
      "HEART_RATE_MEDIAN  :  685\n",
      "RESPIRATORY_RATE_MEDIAN  :  748\n",
      "TEMPERATURE_MEDIAN  :  694\n",
      "OXYGEN_SATURATION_MEDIAN  :  686\n",
      "BLOODPRESSURE_DIASTOLIC_MIN  :  685\n",
      "BLOODPRESSURE_SISTOLIC_MIN  :  685\n",
      "HEART_RATE_MIN  :  685\n",
      "RESPIRATORY_RATE_MIN  :  748\n",
      "TEMPERATURE_MIN  :  694\n",
      "OXYGEN_SATURATION_MIN  :  686\n",
      "BLOODPRESSURE_DIASTOLIC_MAX  :  685\n",
      "BLOODPRESSURE_SISTOLIC_MAX  :  685\n",
      "HEART_RATE_MAX  :  685\n",
      "RESPIRATORY_RATE_MAX  :  748\n",
      "TEMPERATURE_MAX  :  694\n",
      "OXYGEN_SATURATION_MAX  :  686\n",
      "BLOODPRESSURE_DIASTOLIC_DIFF  :  685\n",
      "BLOODPRESSURE_SISTOLIC_DIFF  :  685\n",
      "HEART_RATE_DIFF  :  685\n",
      "RESPIRATORY_RATE_DIFF  :  748\n",
      "TEMPERATURE_DIFF  :  694\n",
      "OXYGEN_SATURATION_DIFF  :  686\n",
      "BLOODPRESSURE_DIASTOLIC_DIFF_REL  :  685\n",
      "BLOODPRESSURE_SISTOLIC_DIFF_REL  :  685\n",
      "HEART_RATE_DIFF_REL  :  685\n",
      "RESPIRATORY_RATE_DIFF_REL  :  748\n",
      "TEMPERATURE_DIFF_REL  :  694\n",
      "OXYGEN_SATURATION_DIFF_REL  :  686\n",
      "WINDOW  :  0\n",
      "ICU  :  0\n"
     ]
    }
   ],
   "source": [
    "# Null / NA values in our dataset\n",
    "print_na(data)"
   ]
  },
  {
   "cell_type": "code",
   "execution_count": 8,
   "metadata": {
    "execution": {
     "iopub.execute_input": "2021-02-24T07:09:11.325645Z",
     "iopub.status.busy": "2021-02-24T07:09:11.322824Z",
     "iopub.status.idle": "2021-02-24T07:09:11.906248Z",
     "shell.execute_reply": "2021-02-24T07:09:11.906673Z"
    },
    "papermill": {
     "duration": 0.623964,
     "end_time": "2021-02-24T07:09:11.906845",
     "exception": false,
     "start_time": "2021-02-24T07:09:11.282881",
     "status": "completed"
    },
    "tags": []
   },
   "outputs": [
    {
     "name": "stdout",
     "output_type": "stream",
     "text": [
      "ALBUMIN_MEAN : True\n",
      "ALBUMIN_MIN : True\n",
      "ALBUMIN_MAX : True\n",
      "BE_ARTERIAL_MEAN : True\n",
      "BE_ARTERIAL_MIN : True\n",
      "BE_ARTERIAL_MAX : True\n",
      "BE_ARTERIAL_DIFF : True\n",
      "BE_VENOUS_MEAN : True\n",
      "BE_VENOUS_MIN : True\n",
      "BE_VENOUS_MAX : True\n",
      "BE_VENOUS_DIFF : True\n",
      "BIC_ARTERIAL_MEAN : True\n",
      "BIC_ARTERIAL_MIN : True\n",
      "BIC_ARTERIAL_MAX : True\n",
      "BIC_ARTERIAL_DIFF : True\n",
      "BIC_VENOUS_MEAN : True\n",
      "BIC_VENOUS_MIN : True\n",
      "BIC_VENOUS_MAX : True\n",
      "BIC_VENOUS_DIFF : True\n",
      "BILLIRUBIN_MEAN : True\n",
      "BILLIRUBIN_MIN : True\n",
      "BILLIRUBIN_MAX : True\n",
      "BILLIRUBIN_DIFF : True\n",
      "BLAST_MEAN : True\n",
      "BLAST_MIN : True\n",
      "BLAST_MAX : True\n",
      "BLAST_DIFF : True\n",
      "CALCIUM_MEAN : True\n",
      "CALCIUM_MIN : True\n",
      "CALCIUM_MAX : True\n",
      "CALCIUM_DIFF : True\n",
      "CREATININ_MEAN : True\n",
      "CREATININ_MIN : True\n",
      "CREATININ_MAX : True\n",
      "CREATININ_DIFF : True\n",
      "FFA_MEAN : True\n",
      "FFA_MIN : True\n",
      "FFA_MAX : True\n",
      "FFA_DIFF : True\n",
      "GGT_MEAN : True\n",
      "GGT_MIN : True\n",
      "GGT_MAX : True\n",
      "GGT_DIFF : True\n",
      "GLUCOSE_MEAN : True\n",
      "GLUCOSE_MIN : True\n",
      "GLUCOSE_MAX : True\n",
      "GLUCOSE_DIFF : True\n",
      "HEMATOCRITE_MEAN : True\n",
      "HEMATOCRITE_MIN : True\n",
      "HEMATOCRITE_MAX : True\n",
      "HEMATOCRITE_DIFF : True\n",
      "HEMOGLOBIN_MEAN : True\n",
      "HEMOGLOBIN_MIN : True\n",
      "HEMOGLOBIN_MAX : True\n",
      "HEMOGLOBIN_DIFF : True\n",
      "INR_MEAN : True\n",
      "INR_MIN : True\n",
      "INR_MAX : True\n",
      "INR_DIFF : True\n",
      "LACTATE_MEAN : True\n",
      "LACTATE_MIN : True\n",
      "LACTATE_MAX : True\n",
      "LACTATE_DIFF : True\n",
      "LEUKOCYTES_MEAN : True\n",
      "LEUKOCYTES_MIN : True\n",
      "LEUKOCYTES_MAX : True\n",
      "LEUKOCYTES_DIFF : True\n",
      "LINFOCITOS_MEAN : True\n",
      "LINFOCITOS_MIN : True\n",
      "LINFOCITOS_MAX : True\n",
      "LINFOCITOS_DIFF : True\n",
      "NEUTROPHILES_MEAN : True\n",
      "NEUTROPHILES_MIN : True\n",
      "NEUTROPHILES_MAX : True\n",
      "NEUTROPHILES_DIFF : True\n",
      "P02_ARTERIAL_MEAN : True\n",
      "P02_ARTERIAL_MIN : True\n",
      "P02_ARTERIAL_MAX : True\n",
      "P02_ARTERIAL_DIFF : True\n",
      "P02_VENOUS_MEAN : True\n",
      "P02_VENOUS_MIN : True\n",
      "P02_VENOUS_MAX : True\n",
      "P02_VENOUS_DIFF : True\n",
      "PC02_ARTERIAL_MEAN : True\n",
      "PC02_ARTERIAL_MIN : True\n",
      "PC02_ARTERIAL_MAX : True\n",
      "PC02_ARTERIAL_DIFF : True\n",
      "PC02_VENOUS_MEAN : True\n",
      "PC02_VENOUS_MIN : True\n",
      "PC02_VENOUS_MAX : True\n",
      "PC02_VENOUS_DIFF : True\n",
      "PCR_MEAN : True\n",
      "PCR_MIN : True\n",
      "PCR_MAX : True\n",
      "PCR_DIFF : True\n",
      "PH_ARTERIAL_MEAN : True\n",
      "PH_ARTERIAL_MIN : True\n",
      "PH_ARTERIAL_MAX : True\n",
      "PH_ARTERIAL_DIFF : True\n",
      "PH_VENOUS_MEAN : True\n",
      "PH_VENOUS_MIN : True\n",
      "PH_VENOUS_MAX : True\n",
      "PH_VENOUS_DIFF : True\n",
      "PLATELETS_MEAN : True\n",
      "PLATELETS_MIN : True\n",
      "PLATELETS_MAX : True\n",
      "PLATELETS_DIFF : True\n",
      "POTASSIUM_MEAN : True\n",
      "POTASSIUM_MIN : True\n",
      "POTASSIUM_MAX : True\n",
      "POTASSIUM_DIFF : True\n",
      "SAT02_ARTERIAL_MEAN : True\n",
      "SAT02_ARTERIAL_MIN : True\n",
      "SAT02_ARTERIAL_MAX : True\n",
      "SAT02_ARTERIAL_DIFF : True\n",
      "SAT02_VENOUS_MEAN : True\n",
      "SAT02_VENOUS_MIN : True\n",
      "SAT02_VENOUS_MAX : True\n",
      "SAT02_VENOUS_DIFF : True\n",
      "SODIUM_MEAN : True\n",
      "SODIUM_MIN : True\n",
      "SODIUM_MAX : True\n",
      "SODIUM_DIFF : True\n",
      "TGO_MEAN : True\n",
      "TGO_MIN : True\n",
      "TGO_MAX : True\n",
      "TGO_DIFF : True\n",
      "TGP_MEAN : True\n",
      "TGP_MIN : True\n",
      "TGP_MAX : True\n",
      "TGP_DIFF : True\n",
      "TTPA_MEAN : True\n",
      "TTPA_MIN : True\n",
      "TTPA_MAX : True\n",
      "TTPA_DIFF : True\n",
      "UREA_MEAN : True\n",
      "UREA_MIN : True\n",
      "UREA_MAX : True\n",
      "UREA_DIFF : True\n",
      "DIMER_MEAN : True\n",
      "DIMER_MIN : True\n",
      "DIMER_MAX : True\n",
      "DIMER_DIFF : True\n",
      "total duplicate columns =  143\n"
     ]
    }
   ],
   "source": [
    "# check for duplicate columns i.e columns having all values exactly equal\n",
    "duplicated = data.T.duplicated()\n",
    "count = 0\n",
    "\n",
    "# The first instance of a column is marked as 'False', when the value is seen to be repeated in other \n",
    "# column(s) it is marked as 'True'\n",
    "for i in range(len(duplicated)):\n",
    "    if duplicated[i] == True:\n",
    "        print(duplicated.index[i], \":\", duplicated[i])\n",
    "        count += 1\n",
    "        \n",
    "# 143 duplicate columns\n",
    "print(\"total duplicate columns = \", count)"
   ]
  },
  {
   "cell_type": "code",
   "execution_count": 9,
   "metadata": {
    "execution": {
     "iopub.execute_input": "2021-02-24T07:09:11.999980Z",
     "iopub.status.busy": "2021-02-24T07:09:11.983957Z",
     "iopub.status.idle": "2021-02-24T07:09:12.465258Z",
     "shell.execute_reply": "2021-02-24T07:09:12.464745Z"
    },
    "papermill": {
     "duration": 0.523575,
     "end_time": "2021-02-24T07:09:12.465400",
     "exception": false,
     "start_time": "2021-02-24T07:09:11.941825",
     "status": "completed"
    },
    "tags": []
   },
   "outputs": [],
   "source": [
    "# Eliminate duplicate columns - it drops the columns marked as 'True' from the previous step\n",
    "# In this way we still retain one copy of the values for analysis (the one that is marked as 'False')\n",
    "data = data.T.drop_duplicates().T"
   ]
  },
  {
   "cell_type": "code",
   "execution_count": 10,
   "metadata": {
    "execution": {
     "iopub.execute_input": "2021-02-24T07:09:12.538833Z",
     "iopub.status.busy": "2021-02-24T07:09:12.538142Z",
     "iopub.status.idle": "2021-02-24T07:09:12.542671Z",
     "shell.execute_reply": "2021-02-24T07:09:12.542004Z"
    },
    "papermill": {
     "duration": 0.042799,
     "end_time": "2021-02-24T07:09:12.542804",
     "exception": false,
     "start_time": "2021-02-24T07:09:12.500005",
     "status": "completed"
    },
    "tags": []
   },
   "outputs": [
    {
     "data": {
      "text/plain": [
       "(1925, 88)"
      ]
     },
     "execution_count": 10,
     "metadata": {},
     "output_type": "execute_result"
    }
   ],
   "source": [
    "# check the shape here : 231 - 143 = 88\n",
    "data.shape"
   ]
  },
  {
   "cell_type": "markdown",
   "metadata": {
    "papermill": {
     "duration": 0.035529,
     "end_time": "2021-02-24T07:09:12.613660",
     "exception": false,
     "start_time": "2021-02-24T07:09:12.578131",
     "status": "completed"
    },
    "tags": []
   },
   "source": [
    "### If the patient was ever admitted to the ICU in any of the windows, make the first window i.e 0-2 as True"
   ]
  },
  {
   "cell_type": "code",
   "execution_count": 11,
   "metadata": {
    "execution": {
     "iopub.execute_input": "2021-02-24T07:09:12.690165Z",
     "iopub.status.busy": "2021-02-24T07:09:12.689519Z",
     "iopub.status.idle": "2021-02-24T07:09:14.083962Z",
     "shell.execute_reply": "2021-02-24T07:09:14.083380Z"
    },
    "papermill": {
     "duration": 1.43545,
     "end_time": "2021-02-24T07:09:14.084097",
     "exception": false,
     "start_time": "2021-02-24T07:09:12.648647",
     "status": "completed"
    },
    "tags": []
   },
   "outputs": [],
   "source": [
    "def generate_icu_feature(p_id):\n",
    "    df = data[data['PATIENT_VISIT_IDENTIFIER']==p_id]\n",
    "    icu_track = df['ICU']\n",
    "    icu = False\n",
    "    for t in icu_track:\n",
    "        icu = icu or t\n",
    "    return icu\n",
    "\n",
    "data['ICU'] = data.apply(lambda x : generate_icu_feature(x['PATIENT_VISIT_IDENTIFIER']), axis = 1)"
   ]
  },
  {
   "cell_type": "markdown",
   "metadata": {
    "papermill": {
     "duration": 0.033727,
     "end_time": "2021-02-24T07:09:14.152435",
     "exception": false,
     "start_time": "2021-02-24T07:09:14.118708",
     "status": "completed"
    },
    "tags": []
   },
   "source": [
    "### Create new dataframe 'final_data' after finlling NA values of a patient with mean of his other values.  "
   ]
  },
  {
   "cell_type": "code",
   "execution_count": 12,
   "metadata": {
    "execution": {
     "iopub.execute_input": "2021-02-24T07:09:14.254039Z",
     "iopub.status.busy": "2021-02-24T07:09:14.253361Z",
     "iopub.status.idle": "2021-02-24T07:09:35.190806Z",
     "shell.execute_reply": "2021-02-24T07:09:35.190078Z"
    },
    "papermill": {
     "duration": 21.003987,
     "end_time": "2021-02-24T07:09:35.191026",
     "exception": false,
     "start_time": "2021-02-24T07:09:14.187039",
     "status": "completed"
    },
    "tags": []
   },
   "outputs": [
    {
     "name": "stderr",
     "output_type": "stream",
     "text": [
      "/opt/conda/lib/python3.7/site-packages/pandas/core/series.py:4439: SettingWithCopyWarning: \n",
      "A value is trying to be set on a copy of a slice from a DataFrame\n",
      "\n",
      "See the caveats in the documentation: https://pandas.pydata.org/pandas-docs/stable/user_guide/indexing.html#returning-a-view-versus-a-copy\n",
      "  downcast=downcast,\n"
     ]
    }
   ],
   "source": [
    "# all unique ids\n",
    "patient_id = data['PATIENT_VISIT_IDENTIFIER'].unique()\n",
    "\n",
    "#\n",
    "NA_filled_first_window = []\n",
    "\n",
    "# Iterate for each unique patient id\n",
    "for p_id in patient_id:\n",
    "    # create a temporary dataframe to hold details for each patient\n",
    "    temp = data[ data['PATIENT_VISIT_IDENTIFIER'] == p_id ]\n",
    "    # Fill missing data with mean of values\n",
    "    temp.fillna(temp.mean(),inplace=True)\n",
    "    # using dataframe.iloc[[0]] => returns a dataframe\n",
    "    # using dataframe.iloc[0] => returns a series\n",
    "    NA_filled_first_window.append(temp.iloc[[0]])\n",
    "    \n",
    "# Concatenate dataframes from NA_filled_first_window to assemble the final dataframe\n",
    "final_data = pd.concat(NA_filled_first_window)\n",
    "   "
   ]
  },
  {
   "cell_type": "code",
   "execution_count": 13,
   "metadata": {
    "execution": {
     "iopub.execute_input": "2021-02-24T07:09:35.266464Z",
     "iopub.status.busy": "2021-02-24T07:09:35.265585Z",
     "iopub.status.idle": "2021-02-24T07:09:35.692573Z",
     "shell.execute_reply": "2021-02-24T07:09:35.692081Z"
    },
    "papermill": {
     "duration": 0.465491,
     "end_time": "2021-02-24T07:09:35.692731",
     "exception": false,
     "start_time": "2021-02-24T07:09:35.227240",
     "status": "completed"
    },
    "tags": []
   },
   "outputs": [
    {
     "name": "stdout",
     "output_type": "stream",
     "text": [
      "PATIENT_VISIT_IDENTIFIER  :  0\n",
      "AGE_ABOVE65  :  0\n",
      "AGE_PERCENTIL  :  0\n",
      "GENDER  :  0\n",
      "DISEASE GROUPING 1  :  1\n",
      "DISEASE GROUPING 2  :  1\n",
      "DISEASE GROUPING 3  :  1\n",
      "DISEASE GROUPING 4  :  1\n",
      "DISEASE GROUPING 5  :  1\n",
      "DISEASE GROUPING 6  :  1\n",
      "HTN  :  1\n",
      "IMMUNOCOMPROMISED  :  1\n",
      "OTHER  :  1\n",
      "ALBUMIN_MEDIAN  :  2\n",
      "ALBUMIN_DIFF  :  2\n",
      "BE_ARTERIAL_MEDIAN  :  2\n",
      "BE_VENOUS_MEDIAN  :  2\n",
      "BIC_ARTERIAL_MEDIAN  :  2\n",
      "BIC_VENOUS_MEDIAN  :  2\n",
      "BILLIRUBIN_MEDIAN  :  2\n",
      "BLAST_MEDIAN  :  2\n",
      "CALCIUM_MEDIAN  :  2\n",
      "CREATININ_MEDIAN  :  2\n",
      "FFA_MEDIAN  :  2\n",
      "GGT_MEDIAN  :  2\n",
      "GLUCOSE_MEDIAN  :  2\n",
      "HEMATOCRITE_MEDIAN  :  2\n",
      "HEMOGLOBIN_MEDIAN  :  2\n",
      "INR_MEDIAN  :  2\n",
      "LACTATE_MEDIAN  :  2\n",
      "LEUKOCYTES_MEDIAN  :  2\n",
      "LINFOCITOS_MEDIAN  :  2\n",
      "NEUTROPHILES_MEDIAN  :  2\n",
      "P02_ARTERIAL_MEDIAN  :  2\n",
      "P02_VENOUS_MEDIAN  :  2\n",
      "PC02_ARTERIAL_MEDIAN  :  2\n",
      "PC02_VENOUS_MEDIAN  :  2\n",
      "PCR_MEDIAN  :  2\n",
      "PH_ARTERIAL_MEDIAN  :  2\n",
      "PH_VENOUS_MEDIAN  :  2\n",
      "PLATELETS_MEDIAN  :  2\n",
      "POTASSIUM_MEDIAN  :  2\n",
      "SAT02_ARTERIAL_MEDIAN  :  2\n",
      "SAT02_VENOUS_MEDIAN  :  2\n",
      "SODIUM_MEDIAN  :  2\n",
      "TGO_MEDIAN  :  2\n",
      "TGP_MEDIAN  :  2\n",
      "TTPA_MEDIAN  :  2\n",
      "UREA_MEDIAN  :  2\n",
      "DIMER_MEDIAN  :  2\n",
      "BLOODPRESSURE_DIASTOLIC_MEAN  :  1\n",
      "BLOODPRESSURE_SISTOLIC_MEAN  :  1\n",
      "HEART_RATE_MEAN  :  1\n",
      "RESPIRATORY_RATE_MEAN  :  1\n",
      "TEMPERATURE_MEAN  :  1\n",
      "OXYGEN_SATURATION_MEAN  :  1\n",
      "BLOODPRESSURE_DIASTOLIC_MEDIAN  :  1\n",
      "BLOODPRESSURE_SISTOLIC_MEDIAN  :  1\n",
      "HEART_RATE_MEDIAN  :  1\n",
      "RESPIRATORY_RATE_MEDIAN  :  1\n",
      "TEMPERATURE_MEDIAN  :  1\n",
      "OXYGEN_SATURATION_MEDIAN  :  1\n",
      "BLOODPRESSURE_DIASTOLIC_MIN  :  1\n",
      "BLOODPRESSURE_SISTOLIC_MIN  :  1\n",
      "HEART_RATE_MIN  :  1\n",
      "RESPIRATORY_RATE_MIN  :  1\n",
      "TEMPERATURE_MIN  :  1\n",
      "OXYGEN_SATURATION_MIN  :  1\n",
      "BLOODPRESSURE_DIASTOLIC_MAX  :  1\n",
      "BLOODPRESSURE_SISTOLIC_MAX  :  1\n",
      "HEART_RATE_MAX  :  1\n",
      "RESPIRATORY_RATE_MAX  :  1\n",
      "TEMPERATURE_MAX  :  1\n",
      "OXYGEN_SATURATION_MAX  :  1\n",
      "BLOODPRESSURE_DIASTOLIC_DIFF  :  1\n",
      "BLOODPRESSURE_SISTOLIC_DIFF  :  1\n",
      "HEART_RATE_DIFF  :  1\n",
      "RESPIRATORY_RATE_DIFF  :  1\n",
      "TEMPERATURE_DIFF  :  1\n",
      "OXYGEN_SATURATION_DIFF  :  1\n",
      "BLOODPRESSURE_DIASTOLIC_DIFF_REL  :  1\n",
      "BLOODPRESSURE_SISTOLIC_DIFF_REL  :  1\n",
      "HEART_RATE_DIFF_REL  :  1\n",
      "RESPIRATORY_RATE_DIFF_REL  :  1\n",
      "TEMPERATURE_DIFF_REL  :  1\n",
      "OXYGEN_SATURATION_DIFF_REL  :  1\n",
      "WINDOW  :  0\n",
      "ICU  :  0\n"
     ]
    }
   ],
   "source": [
    "# check for any remaining NA\n",
    "print_na(final_data)"
   ]
  },
  {
   "cell_type": "code",
   "execution_count": 14,
   "metadata": {
    "execution": {
     "iopub.execute_input": "2021-02-24T07:09:35.779755Z",
     "iopub.status.busy": "2021-02-24T07:09:35.771010Z",
     "iopub.status.idle": "2021-02-24T07:09:35.792447Z",
     "shell.execute_reply": "2021-02-24T07:09:35.792874Z"
    },
    "papermill": {
     "duration": 0.064081,
     "end_time": "2021-02-24T07:09:35.793068",
     "exception": false,
     "start_time": "2021-02-24T07:09:35.728987",
     "status": "completed"
    },
    "tags": []
   },
   "outputs": [
    {
     "data": {
      "text/html": [
       "<div>\n",
       "<style scoped>\n",
       "    .dataframe tbody tr th:only-of-type {\n",
       "        vertical-align: middle;\n",
       "    }\n",
       "\n",
       "    .dataframe tbody tr th {\n",
       "        vertical-align: top;\n",
       "    }\n",
       "\n",
       "    .dataframe thead th {\n",
       "        text-align: right;\n",
       "    }\n",
       "</style>\n",
       "<table border=\"1\" class=\"dataframe\">\n",
       "  <thead>\n",
       "    <tr style=\"text-align: right;\">\n",
       "      <th></th>\n",
       "      <th>PATIENT_VISIT_IDENTIFIER</th>\n",
       "      <th>AGE_ABOVE65</th>\n",
       "      <th>AGE_PERCENTIL</th>\n",
       "      <th>GENDER</th>\n",
       "      <th>DISEASE GROUPING 1</th>\n",
       "      <th>DISEASE GROUPING 2</th>\n",
       "      <th>DISEASE GROUPING 3</th>\n",
       "      <th>DISEASE GROUPING 4</th>\n",
       "      <th>DISEASE GROUPING 5</th>\n",
       "      <th>DISEASE GROUPING 6</th>\n",
       "      <th>...</th>\n",
       "      <th>TEMPERATURE_DIFF</th>\n",
       "      <th>OXYGEN_SATURATION_DIFF</th>\n",
       "      <th>BLOODPRESSURE_DIASTOLIC_DIFF_REL</th>\n",
       "      <th>BLOODPRESSURE_SISTOLIC_DIFF_REL</th>\n",
       "      <th>HEART_RATE_DIFF_REL</th>\n",
       "      <th>RESPIRATORY_RATE_DIFF_REL</th>\n",
       "      <th>TEMPERATURE_DIFF_REL</th>\n",
       "      <th>OXYGEN_SATURATION_DIFF_REL</th>\n",
       "      <th>WINDOW</th>\n",
       "      <th>ICU</th>\n",
       "    </tr>\n",
       "  </thead>\n",
       "  <tbody>\n",
       "    <tr>\n",
       "      <th>995</th>\n",
       "      <td>199</td>\n",
       "      <td>0</td>\n",
       "      <td>10th</td>\n",
       "      <td>0</td>\n",
       "      <td>NaN</td>\n",
       "      <td>NaN</td>\n",
       "      <td>NaN</td>\n",
       "      <td>NaN</td>\n",
       "      <td>NaN</td>\n",
       "      <td>NaN</td>\n",
       "      <td>...</td>\n",
       "      <td>NaN</td>\n",
       "      <td>NaN</td>\n",
       "      <td>NaN</td>\n",
       "      <td>NaN</td>\n",
       "      <td>NaN</td>\n",
       "      <td>NaN</td>\n",
       "      <td>NaN</td>\n",
       "      <td>NaN</td>\n",
       "      <td>0-2</td>\n",
       "      <td>0</td>\n",
       "    </tr>\n",
       "  </tbody>\n",
       "</table>\n",
       "<p>1 rows × 88 columns</p>\n",
       "</div>"
      ],
      "text/plain": [
       "     PATIENT_VISIT_IDENTIFIER  AGE_ABOVE65 AGE_PERCENTIL  GENDER  \\\n",
       "995                       199            0          10th       0   \n",
       "\n",
       "     DISEASE GROUPING 1  DISEASE GROUPING 2  DISEASE GROUPING 3  \\\n",
       "995                 NaN                 NaN                 NaN   \n",
       "\n",
       "     DISEASE GROUPING 4  DISEASE GROUPING 5  DISEASE GROUPING 6  ...  \\\n",
       "995                 NaN                 NaN                 NaN  ...   \n",
       "\n",
       "     TEMPERATURE_DIFF  OXYGEN_SATURATION_DIFF  \\\n",
       "995               NaN                     NaN   \n",
       "\n",
       "     BLOODPRESSURE_DIASTOLIC_DIFF_REL  BLOODPRESSURE_SISTOLIC_DIFF_REL  \\\n",
       "995                               NaN                              NaN   \n",
       "\n",
       "     HEART_RATE_DIFF_REL  RESPIRATORY_RATE_DIFF_REL  TEMPERATURE_DIFF_REL  \\\n",
       "995                  NaN                        NaN                   NaN   \n",
       "\n",
       "     OXYGEN_SATURATION_DIFF_REL  WINDOW  ICU  \n",
       "995                         NaN     0-2    0  \n",
       "\n",
       "[1 rows x 88 columns]"
      ]
     },
     "execution_count": 14,
     "metadata": {},
     "output_type": "execute_result"
    }
   ],
   "source": [
    "# Find the one with nan value\n",
    "final_data[ final_data['DISEASE GROUPING 1'].isna() ]"
   ]
  },
  {
   "cell_type": "code",
   "execution_count": 15,
   "metadata": {
    "execution": {
     "iopub.execute_input": "2021-02-24T07:09:35.871652Z",
     "iopub.status.busy": "2021-02-24T07:09:35.870800Z",
     "iopub.status.idle": "2021-02-24T07:09:35.886559Z",
     "shell.execute_reply": "2021-02-24T07:09:35.886039Z"
    },
    "papermill": {
     "duration": 0.056246,
     "end_time": "2021-02-24T07:09:35.886709",
     "exception": false,
     "start_time": "2021-02-24T07:09:35.830463",
     "status": "completed"
    },
    "tags": []
   },
   "outputs": [],
   "source": [
    "# the patient with ID = 199 has all values as NaN, hence drop this patient details\n",
    "final_data = final_data[ final_data['PATIENT_VISIT_IDENTIFIER'] != 199 ]"
   ]
  },
  {
   "cell_type": "code",
   "execution_count": 16,
   "metadata": {
    "execution": {
     "iopub.execute_input": "2021-02-24T07:09:35.988592Z",
     "iopub.status.busy": "2021-02-24T07:09:35.987712Z",
     "iopub.status.idle": "2021-02-24T07:09:35.991853Z",
     "shell.execute_reply": "2021-02-24T07:09:35.992313Z"
    },
    "papermill": {
     "duration": 0.068024,
     "end_time": "2021-02-24T07:09:35.992473",
     "exception": false,
     "start_time": "2021-02-24T07:09:35.924449",
     "status": "completed"
    },
    "tags": []
   },
   "outputs": [
    {
     "data": {
      "text/html": [
       "<div>\n",
       "<style scoped>\n",
       "    .dataframe tbody tr th:only-of-type {\n",
       "        vertical-align: middle;\n",
       "    }\n",
       "\n",
       "    .dataframe tbody tr th {\n",
       "        vertical-align: top;\n",
       "    }\n",
       "\n",
       "    .dataframe thead th {\n",
       "        text-align: right;\n",
       "    }\n",
       "</style>\n",
       "<table border=\"1\" class=\"dataframe\">\n",
       "  <thead>\n",
       "    <tr style=\"text-align: right;\">\n",
       "      <th></th>\n",
       "      <th>PATIENT_VISIT_IDENTIFIER</th>\n",
       "      <th>AGE_ABOVE65</th>\n",
       "      <th>AGE_PERCENTIL</th>\n",
       "      <th>GENDER</th>\n",
       "      <th>DISEASE GROUPING 1</th>\n",
       "      <th>DISEASE GROUPING 2</th>\n",
       "      <th>DISEASE GROUPING 3</th>\n",
       "      <th>DISEASE GROUPING 4</th>\n",
       "      <th>DISEASE GROUPING 5</th>\n",
       "      <th>DISEASE GROUPING 6</th>\n",
       "      <th>...</th>\n",
       "      <th>TEMPERATURE_DIFF</th>\n",
       "      <th>OXYGEN_SATURATION_DIFF</th>\n",
       "      <th>BLOODPRESSURE_DIASTOLIC_DIFF_REL</th>\n",
       "      <th>BLOODPRESSURE_SISTOLIC_DIFF_REL</th>\n",
       "      <th>HEART_RATE_DIFF_REL</th>\n",
       "      <th>RESPIRATORY_RATE_DIFF_REL</th>\n",
       "      <th>TEMPERATURE_DIFF_REL</th>\n",
       "      <th>OXYGEN_SATURATION_DIFF_REL</th>\n",
       "      <th>WINDOW</th>\n",
       "      <th>ICU</th>\n",
       "    </tr>\n",
       "  </thead>\n",
       "  <tbody>\n",
       "    <tr>\n",
       "      <th>1435</th>\n",
       "      <td>287</td>\n",
       "      <td>0</td>\n",
       "      <td>10th</td>\n",
       "      <td>0</td>\n",
       "      <td>0.0</td>\n",
       "      <td>0.0</td>\n",
       "      <td>0.0</td>\n",
       "      <td>0.0</td>\n",
       "      <td>0.0</td>\n",
       "      <td>0.0</td>\n",
       "      <td>...</td>\n",
       "      <td>-1.0</td>\n",
       "      <td>-1.0</td>\n",
       "      <td>-1.0</td>\n",
       "      <td>-1.0</td>\n",
       "      <td>-1.0</td>\n",
       "      <td>-1.0</td>\n",
       "      <td>-1.0</td>\n",
       "      <td>-1.0</td>\n",
       "      <td>0-2</td>\n",
       "      <td>1</td>\n",
       "    </tr>\n",
       "  </tbody>\n",
       "</table>\n",
       "<p>1 rows × 88 columns</p>\n",
       "</div>"
      ],
      "text/plain": [
       "      PATIENT_VISIT_IDENTIFIER  AGE_ABOVE65 AGE_PERCENTIL  GENDER  \\\n",
       "1435                       287            0          10th       0   \n",
       "\n",
       "      DISEASE GROUPING 1  DISEASE GROUPING 2  DISEASE GROUPING 3  \\\n",
       "1435                 0.0                 0.0                 0.0   \n",
       "\n",
       "      DISEASE GROUPING 4  DISEASE GROUPING 5  DISEASE GROUPING 6  ...  \\\n",
       "1435                 0.0                 0.0                 0.0  ...   \n",
       "\n",
       "      TEMPERATURE_DIFF  OXYGEN_SATURATION_DIFF  \\\n",
       "1435              -1.0                    -1.0   \n",
       "\n",
       "      BLOODPRESSURE_DIASTOLIC_DIFF_REL  BLOODPRESSURE_SISTOLIC_DIFF_REL  \\\n",
       "1435                              -1.0                             -1.0   \n",
       "\n",
       "      HEART_RATE_DIFF_REL  RESPIRATORY_RATE_DIFF_REL  TEMPERATURE_DIFF_REL  \\\n",
       "1435                 -1.0                       -1.0                  -1.0   \n",
       "\n",
       "      OXYGEN_SATURATION_DIFF_REL  WINDOW  ICU  \n",
       "1435                        -1.0     0-2    1  \n",
       "\n",
       "[1 rows x 88 columns]"
      ]
     },
     "execution_count": 16,
     "metadata": {},
     "output_type": "execute_result"
    }
   ],
   "source": [
    "# We still have one more row with more NaN values, Find the one with nan value for 'ALBUMIN_MEDIAN'\n",
    "final_data[ final_data['ALBUMIN_MEDIAN'].isna() ]"
   ]
  },
  {
   "cell_type": "code",
   "execution_count": 17,
   "metadata": {
    "execution": {
     "iopub.execute_input": "2021-02-24T07:09:36.074164Z",
     "iopub.status.busy": "2021-02-24T07:09:36.073220Z",
     "iopub.status.idle": "2021-02-24T07:09:36.075852Z",
     "shell.execute_reply": "2021-02-24T07:09:36.076371Z"
    },
    "papermill": {
     "duration": 0.045586,
     "end_time": "2021-02-24T07:09:36.076560",
     "exception": false,
     "start_time": "2021-02-24T07:09:36.030974",
     "status": "completed"
    },
    "tags": []
   },
   "outputs": [],
   "source": [
    "# drop the patient with Id = 287\n",
    "final_data = final_data[ final_data['PATIENT_VISIT_IDENTIFIER'] != 287 ]\n",
    "\n",
    "# Run the cell that displays NA values => now we don't have any NA values and we can start with data visualization now"
   ]
  },
  {
   "cell_type": "markdown",
   "metadata": {
    "papermill": {
     "duration": 0.037531,
     "end_time": "2021-02-24T07:09:36.151959",
     "exception": false,
     "start_time": "2021-02-24T07:09:36.114428",
     "status": "completed"
    },
    "tags": []
   },
   "source": [
    "### Drop window column since it adds no value"
   ]
  },
  {
   "cell_type": "code",
   "execution_count": 18,
   "metadata": {
    "execution": {
     "iopub.execute_input": "2021-02-24T07:09:36.234377Z",
     "iopub.status.busy": "2021-02-24T07:09:36.233831Z",
     "iopub.status.idle": "2021-02-24T07:09:36.236554Z",
     "shell.execute_reply": "2021-02-24T07:09:36.235931Z"
    },
    "papermill": {
     "duration": 0.046508,
     "end_time": "2021-02-24T07:09:36.236682",
     "exception": false,
     "start_time": "2021-02-24T07:09:36.190174",
     "status": "completed"
    },
    "tags": []
   },
   "outputs": [],
   "source": [
    "final_data.drop(columns = 'WINDOW',inplace=True)"
   ]
  },
  {
   "cell_type": "markdown",
   "metadata": {
    "papermill": {
     "duration": 0.037979,
     "end_time": "2021-02-24T07:09:36.312495",
     "exception": false,
     "start_time": "2021-02-24T07:09:36.274516",
     "status": "completed"
    },
    "tags": []
   },
   "source": [
    "### Drop columns with constant value (same value for all rows)"
   ]
  },
  {
   "cell_type": "code",
   "execution_count": 19,
   "metadata": {
    "execution": {
     "iopub.execute_input": "2021-02-24T07:09:36.391557Z",
     "iopub.status.busy": "2021-02-24T07:09:36.390981Z",
     "iopub.status.idle": "2021-02-24T07:09:36.419526Z",
     "shell.execute_reply": "2021-02-24T07:09:36.420323Z"
    },
    "papermill": {
     "duration": 0.070267,
     "end_time": "2021-02-24T07:09:36.420521",
     "exception": false,
     "start_time": "2021-02-24T07:09:36.350254",
     "status": "completed"
    },
    "tags": []
   },
   "outputs": [
    {
     "name": "stdout",
     "output_type": "stream",
     "text": [
      "['ALBUMIN_DIFF']\n"
     ]
    }
   ],
   "source": [
    "col = final_data.columns[final_data.nunique() <= 1].tolist()\n",
    "\n",
    "print(col)\n",
    "\n",
    "final_data.drop(columns = col, inplace=True)"
   ]
  },
  {
   "cell_type": "markdown",
   "metadata": {
    "papermill": {
     "duration": 0.038401,
     "end_time": "2021-02-24T07:09:36.497548",
     "exception": false,
     "start_time": "2021-02-24T07:09:36.459147",
     "status": "completed"
    },
    "tags": []
   },
   "source": [
    "<center><h1>DATA VISUALIZATION<h1></center> \n",
    "    \n",
    "Henceforth we will be working with the dataframe 'final_data'"
   ]
  },
  {
   "cell_type": "code",
   "execution_count": 20,
   "metadata": {
    "execution": {
     "iopub.execute_input": "2021-02-24T07:09:36.585511Z",
     "iopub.status.busy": "2021-02-24T07:09:36.584730Z",
     "iopub.status.idle": "2021-02-24T07:09:36.588951Z",
     "shell.execute_reply": "2021-02-24T07:09:36.588384Z"
    },
    "papermill": {
     "duration": 0.052196,
     "end_time": "2021-02-24T07:09:36.589075",
     "exception": false,
     "start_time": "2021-02-24T07:09:36.536879",
     "status": "completed"
    },
    "tags": []
   },
   "outputs": [
    {
     "data": {
      "text/plain": [
       "PATIENT_VISIT_IDENTIFIER              int64\n",
       "AGE_ABOVE65                           int64\n",
       "AGE_PERCENTIL                        object\n",
       "GENDER                                int64\n",
       "DISEASE GROUPING 1                  float64\n",
       "DISEASE GROUPING 2                  float64\n",
       "DISEASE GROUPING 3                  float64\n",
       "DISEASE GROUPING 4                  float64\n",
       "DISEASE GROUPING 5                  float64\n",
       "DISEASE GROUPING 6                  float64\n",
       "HTN                                 float64\n",
       "IMMUNOCOMPROMISED                   float64\n",
       "OTHER                               float64\n",
       "ALBUMIN_MEDIAN                      float64\n",
       "BE_ARTERIAL_MEDIAN                  float64\n",
       "BE_VENOUS_MEDIAN                    float64\n",
       "BIC_ARTERIAL_MEDIAN                 float64\n",
       "BIC_VENOUS_MEDIAN                   float64\n",
       "BILLIRUBIN_MEDIAN                   float64\n",
       "BLAST_MEDIAN                        float64\n",
       "CALCIUM_MEDIAN                      float64\n",
       "CREATININ_MEDIAN                    float64\n",
       "FFA_MEDIAN                          float64\n",
       "GGT_MEDIAN                          float64\n",
       "GLUCOSE_MEDIAN                      float64\n",
       "HEMATOCRITE_MEDIAN                  float64\n",
       "HEMOGLOBIN_MEDIAN                   float64\n",
       "INR_MEDIAN                          float64\n",
       "LACTATE_MEDIAN                      float64\n",
       "LEUKOCYTES_MEDIAN                   float64\n",
       "LINFOCITOS_MEDIAN                   float64\n",
       "NEUTROPHILES_MEDIAN                 float64\n",
       "P02_ARTERIAL_MEDIAN                 float64\n",
       "P02_VENOUS_MEDIAN                   float64\n",
       "PC02_ARTERIAL_MEDIAN                float64\n",
       "PC02_VENOUS_MEDIAN                  float64\n",
       "PCR_MEDIAN                          float64\n",
       "PH_ARTERIAL_MEDIAN                  float64\n",
       "PH_VENOUS_MEDIAN                    float64\n",
       "PLATELETS_MEDIAN                    float64\n",
       "POTASSIUM_MEDIAN                    float64\n",
       "SAT02_ARTERIAL_MEDIAN               float64\n",
       "SAT02_VENOUS_MEDIAN                 float64\n",
       "SODIUM_MEDIAN                       float64\n",
       "TGO_MEDIAN                          float64\n",
       "TGP_MEDIAN                          float64\n",
       "TTPA_MEDIAN                         float64\n",
       "UREA_MEDIAN                         float64\n",
       "DIMER_MEDIAN                        float64\n",
       "BLOODPRESSURE_DIASTOLIC_MEAN        float64\n",
       "BLOODPRESSURE_SISTOLIC_MEAN         float64\n",
       "HEART_RATE_MEAN                     float64\n",
       "RESPIRATORY_RATE_MEAN               float64\n",
       "TEMPERATURE_MEAN                    float64\n",
       "OXYGEN_SATURATION_MEAN              float64\n",
       "BLOODPRESSURE_DIASTOLIC_MEDIAN      float64\n",
       "BLOODPRESSURE_SISTOLIC_MEDIAN       float64\n",
       "HEART_RATE_MEDIAN                   float64\n",
       "RESPIRATORY_RATE_MEDIAN             float64\n",
       "TEMPERATURE_MEDIAN                  float64\n",
       "OXYGEN_SATURATION_MEDIAN            float64\n",
       "BLOODPRESSURE_DIASTOLIC_MIN         float64\n",
       "BLOODPRESSURE_SISTOLIC_MIN          float64\n",
       "HEART_RATE_MIN                      float64\n",
       "RESPIRATORY_RATE_MIN                float64\n",
       "TEMPERATURE_MIN                     float64\n",
       "OXYGEN_SATURATION_MIN               float64\n",
       "BLOODPRESSURE_DIASTOLIC_MAX         float64\n",
       "BLOODPRESSURE_SISTOLIC_MAX          float64\n",
       "HEART_RATE_MAX                      float64\n",
       "RESPIRATORY_RATE_MAX                float64\n",
       "TEMPERATURE_MAX                     float64\n",
       "OXYGEN_SATURATION_MAX               float64\n",
       "BLOODPRESSURE_DIASTOLIC_DIFF        float64\n",
       "BLOODPRESSURE_SISTOLIC_DIFF         float64\n",
       "HEART_RATE_DIFF                     float64\n",
       "RESPIRATORY_RATE_DIFF               float64\n",
       "TEMPERATURE_DIFF                    float64\n",
       "OXYGEN_SATURATION_DIFF              float64\n",
       "BLOODPRESSURE_DIASTOLIC_DIFF_REL    float64\n",
       "BLOODPRESSURE_SISTOLIC_DIFF_REL     float64\n",
       "HEART_RATE_DIFF_REL                 float64\n",
       "RESPIRATORY_RATE_DIFF_REL           float64\n",
       "TEMPERATURE_DIFF_REL                float64\n",
       "OXYGEN_SATURATION_DIFF_REL          float64\n",
       "ICU                                   int64\n",
       "dtype: object"
      ]
     },
     "execution_count": 20,
     "metadata": {},
     "output_type": "execute_result"
    }
   ],
   "source": [
    "pd.set_option('display.max_rows', len(final_data.dtypes))\n",
    "# get the datatypes of all the columns\n",
    "final_data.dtypes"
   ]
  },
  {
   "cell_type": "code",
   "execution_count": 21,
   "metadata": {
    "execution": {
     "iopub.execute_input": "2021-02-24T07:09:36.694936Z",
     "iopub.status.busy": "2021-02-24T07:09:36.694259Z",
     "iopub.status.idle": "2021-02-24T07:09:36.842133Z",
     "shell.execute_reply": "2021-02-24T07:09:36.841375Z"
    },
    "papermill": {
     "duration": 0.214442,
     "end_time": "2021-02-24T07:09:36.842276",
     "exception": false,
     "start_time": "2021-02-24T07:09:36.627834",
     "status": "completed"
    },
    "tags": []
   },
   "outputs": [
    {
     "data": {
      "image/png": "[encoded data removed]",
      "text/plain": [
       "<Figure size 432x288 with 1 Axes>"
      ]
     },
     "metadata": {
      "needs_background": "light"
     },
     "output_type": "display_data"
    }
   ],
   "source": [
    "# AGE_ABOVE65\n",
    "ax = sns.countplot(x=\"AGE_ABOVE65\", hue=\"ICU\", data=final_data)\n",
    "\n",
    "## People with age above 65 have a higher chance of needing an ICU"
   ]
  },
  {
   "cell_type": "code",
   "execution_count": 22,
   "metadata": {
    "execution": {
     "iopub.execute_input": "2021-02-24T07:09:36.944624Z",
     "iopub.status.busy": "2021-02-24T07:09:36.940146Z",
     "iopub.status.idle": "2021-02-24T07:09:37.069514Z",
     "shell.execute_reply": "2021-02-24T07:09:37.068966Z"
    },
    "papermill": {
     "duration": 0.188677,
     "end_time": "2021-02-24T07:09:37.069687",
     "exception": false,
     "start_time": "2021-02-24T07:09:36.881010",
     "status": "completed"
    },
    "tags": []
   },
   "outputs": [
    {
     "data": {
      "image/png": "[encoded data removed]",
      "text/plain": [
       "<Figure size 432x288 with 1 Axes>"
      ]
     },
     "metadata": {
      "needs_background": "light"
     },
     "output_type": "display_data"
    }
   ],
   "source": [
    "# GENDER\n",
    "ax = sns.countplot(x=\"GENDER\", hue=\"ICU\", data=final_data)\n",
    "\n",
    "## Gender 0 is at a slightly higher risk if considered standalone\n",
    "## Although there may be other factors influencing the high icu count for it"
   ]
  },
  {
   "cell_type": "markdown",
   "metadata": {
    "papermill": {
     "duration": 0.039761,
     "end_time": "2021-02-24T07:09:37.150161",
     "exception": false,
     "start_time": "2021-02-24T07:09:37.110400",
     "status": "completed"
    },
    "tags": []
   },
   "source": [
    "### Visualize all the 3 features in a single plot"
   ]
  },
  {
   "cell_type": "code",
   "execution_count": 23,
   "metadata": {
    "execution": {
     "iopub.execute_input": "2021-02-24T07:09:37.250395Z",
     "iopub.status.busy": "2021-02-24T07:09:37.249440Z",
     "iopub.status.idle": "2021-02-24T07:09:37.253333Z",
     "shell.execute_reply": "2021-02-24T07:09:37.253776Z"
    },
    "papermill": {
     "duration": 0.063779,
     "end_time": "2021-02-24T07:09:37.253954",
     "exception": false,
     "start_time": "2021-02-24T07:09:37.190175",
     "status": "completed"
    },
    "tags": []
   },
   "outputs": [
    {
     "data": {
      "text/html": [
       "<div>\n",
       "<style scoped>\n",
       "    .dataframe tbody tr th:only-of-type {\n",
       "        vertical-align: middle;\n",
       "    }\n",
       "\n",
       "    .dataframe tbody tr th {\n",
       "        vertical-align: top;\n",
       "    }\n",
       "\n",
       "    .dataframe thead th {\n",
       "        text-align: right;\n",
       "    }\n",
       "</style>\n",
       "<table border=\"1\" class=\"dataframe\">\n",
       "  <thead>\n",
       "    <tr style=\"text-align: right;\">\n",
       "      <th></th>\n",
       "      <th>icu_count</th>\n",
       "      <th>gender_count</th>\n",
       "      <th>above65_count</th>\n",
       "    </tr>\n",
       "  </thead>\n",
       "  <tbody>\n",
       "    <tr>\n",
       "      <th>0</th>\n",
       "      <td>189</td>\n",
       "      <td>107</td>\n",
       "      <td>61</td>\n",
       "    </tr>\n",
       "    <tr>\n",
       "      <th>1</th>\n",
       "      <td>194</td>\n",
       "      <td>134</td>\n",
       "      <td>119</td>\n",
       "    </tr>\n",
       "  </tbody>\n",
       "</table>\n",
       "</div>"
      ],
      "text/plain": [
       "   icu_count  gender_count  above65_count\n",
       "0        189           107             61\n",
       "1        194           134            119"
      ]
     },
     "execution_count": 23,
     "metadata": {},
     "output_type": "execute_result"
    }
   ],
   "source": [
    "# create a temporary dataframe\n",
    "icu_count = [final_data[ final_data['ICU']==0 ].shape[0],  final_data[ final_data['ICU']==1 ].shape[0] ]\n",
    "\n",
    "gender_count = [ final_data[ (final_data['ICU']==0) & (final_data['GENDER']==0)].shape[0], \n",
    "                final_data[ (final_data['ICU']==1) & (final_data['GENDER']==0)].shape[0] ]\n",
    "\n",
    "above65_count = [final_data[ (final_data['ICU']==0) & (final_data['AGE_ABOVE65']==1) ].shape[0],  \n",
    "                 final_data[ (final_data['ICU']==1) & (final_data['AGE_ABOVE65']==1) ].shape[0] ]\n",
    "\n",
    "plot_df = pd.DataFrame(list(zip(icu_count, gender_count, above65_count)), columns =['icu_count', 'gender_count','above65_count']) \n",
    "\n",
    "plot_df"
   ]
  },
  {
   "cell_type": "code",
   "execution_count": 24,
   "metadata": {
    "execution": {
     "iopub.execute_input": "2021-02-24T07:09:37.366941Z",
     "iopub.status.busy": "2021-02-24T07:09:37.363834Z",
     "iopub.status.idle": "2021-02-24T07:09:37.542802Z",
     "shell.execute_reply": "2021-02-24T07:09:37.542224Z"
    },
    "papermill": {
     "duration": 0.247118,
     "end_time": "2021-02-24T07:09:37.542941",
     "exception": false,
     "start_time": "2021-02-24T07:09:37.295823",
     "status": "completed"
    },
    "tags": []
   },
   "outputs": [
    {
     "data": {
      "text/plain": [
       "<matplotlib.legend.Legend at 0x7f7a6063efd0>"
      ]
     },
     "execution_count": 24,
     "metadata": {},
     "output_type": "execute_result"
    },
    {
     "data": {
      "image/png": "[encoded data removed]",
      "text/plain": [
       "<Figure size 576x720 with 1 Axes>"
      ]
     },
     "metadata": {
      "needs_background": "light"
     },
     "output_type": "display_data"
    }
   ],
   "source": [
    "sns.set_color_codes(\"pastel\")\n",
    "fig = plt.subplots(figsize=(8,10))\n",
    "\n",
    "ax = sns.barplot(x=\"icu_count\", y=\"icu_count\", data=plot_df, label=\"total\", orient='h', color=\"lightgray\")\n",
    "\n",
    "sns.barplot(x=\"gender_count\", y=\"icu_count\", data=plot_df, label=\"gender\", orient='h', color=\"b\")\n",
    "\n",
    "sns.barplot(x=\"above65_count\", y=\"icu_count\", data=plot_df, label=\"above 65\" , orient='h', color=\"r\")\n",
    "\n",
    "ax.set(ylabel=\"ICU COUNT\",xlabel=\"Total in ICU or not\")\n",
    "plt.legend()\n",
    "\n",
    "# 189 is the count of patients NOT admitted in the ICU\n",
    "# 194 is the count of patients admitted in the ICU"
   ]
  },
  {
   "cell_type": "markdown",
   "metadata": {
    "papermill": {
     "duration": 0.042351,
     "end_time": "2021-02-24T07:09:37.628333",
     "exception": false,
     "start_time": "2021-02-24T07:09:37.585982",
     "status": "completed"
    },
    "tags": []
   },
   "source": [
    "### Exploring Disease groupings"
   ]
  },
  {
   "cell_type": "code",
   "execution_count": 25,
   "metadata": {
    "execution": {
     "iopub.execute_input": "2021-02-24T07:09:37.732700Z",
     "iopub.status.busy": "2021-02-24T07:09:37.717766Z",
     "iopub.status.idle": "2021-02-24T07:09:38.372294Z",
     "shell.execute_reply": "2021-02-24T07:09:38.372745Z"
    },
    "papermill": {
     "duration": 0.702822,
     "end_time": "2021-02-24T07:09:38.372910",
     "exception": false,
     "start_time": "2021-02-24T07:09:37.670088",
     "status": "completed"
    },
    "tags": []
   },
   "outputs": [
    {
     "data": {
      "image/png": "[encoded data removed]",
      "text/plain": [
       "<Figure size 1080x720 with 6 Axes>"
      ]
     },
     "metadata": {
      "needs_background": "light"
     },
     "output_type": "display_data"
    }
   ],
   "source": [
    "disease_grp = ['DISEASE GROUPING 1','DISEASE GROUPING 2','DISEASE GROUPING 3',\n",
    "               'DISEASE GROUPING 4', 'DISEASE GROUPING 5', 'DISEASE GROUPING 6']\n",
    "\n",
    "fig, axes = plt.subplots(ncols=2,nrows=3,figsize=(15,10))\n",
    "\n",
    "col = 0\n",
    "\n",
    "for i in range(len(disease_grp)):\n",
    "    sns.countplot(x=disease_grp[i], hue=\"ICU\", data=final_data, ax = axes[int((i)/2)][col])\n",
    "    col = (col+1) % 2\n",
    "               "
   ]
  },
  {
   "cell_type": "markdown",
   "metadata": {
    "papermill": {
     "duration": 0.042962,
     "end_time": "2021-02-24T07:09:38.459393",
     "exception": false,
     "start_time": "2021-02-24T07:09:38.416431",
     "status": "completed"
    },
    "tags": []
   },
   "source": [
    "### HTN - Hypertension                                \n"
   ]
  },
  {
   "cell_type": "code",
   "execution_count": 26,
   "metadata": {
    "execution": {
     "iopub.execute_input": "2021-02-24T07:09:38.575864Z",
     "iopub.status.busy": "2021-02-24T07:09:38.574917Z",
     "iopub.status.idle": "2021-02-24T07:09:38.706173Z",
     "shell.execute_reply": "2021-02-24T07:09:38.705252Z"
    },
    "papermill": {
     "duration": 0.204219,
     "end_time": "2021-02-24T07:09:38.706326",
     "exception": false,
     "start_time": "2021-02-24T07:09:38.502107",
     "status": "completed"
    },
    "tags": []
   },
   "outputs": [
    {
     "data": {
      "text/plain": [
       "<AxesSubplot:xlabel='HTN', ylabel='count'>"
      ]
     },
     "execution_count": 26,
     "metadata": {},
     "output_type": "execute_result"
    },
    {
     "data": {
      "image/png": "[encoded data removed]",
      "text/plain": [
       "<Figure size 432x288 with 1 Axes>"
      ]
     },
     "metadata": {
      "needs_background": "light"
     },
     "output_type": "display_data"
    }
   ],
   "source": [
    "sns.countplot(x=\"HTN\", hue=\"ICU\", data=final_data)\n",
    "\n",
    "## For hypertension - people with hypertension have a slightly higher chance of needing the ICU \n",
    "## However, it cannot be claimed with certainity as there is high imbalance"
   ]
  },
  {
   "cell_type": "markdown",
   "metadata": {
    "papermill": {
     "duration": 0.044293,
     "end_time": "2021-02-24T07:09:38.794809",
     "exception": false,
     "start_time": "2021-02-24T07:09:38.750516",
     "status": "completed"
    },
    "tags": []
   },
   "source": [
    "### IMMUNOCOMPROMISED                   "
   ]
  },
  {
   "cell_type": "code",
   "execution_count": 27,
   "metadata": {
    "execution": {
     "iopub.execute_input": "2021-02-24T07:09:39.011320Z",
     "iopub.status.busy": "2021-02-24T07:09:38.891398Z",
     "iopub.status.idle": "2021-02-24T07:09:39.136582Z",
     "shell.execute_reply": "2021-02-24T07:09:39.136052Z"
    },
    "papermill": {
     "duration": 0.298905,
     "end_time": "2021-02-24T07:09:39.136717",
     "exception": false,
     "start_time": "2021-02-24T07:09:38.837812",
     "status": "completed"
    },
    "tags": []
   },
   "outputs": [
    {
     "data": {
      "text/plain": [
       "<AxesSubplot:xlabel='IMMUNOCOMPROMISED', ylabel='count'>"
      ]
     },
     "execution_count": 27,
     "metadata": {},
     "output_type": "execute_result"
    },
    {
     "data": {
      "image/png": "[encoded data removed]",
      "text/plain": [
       "<Figure size 432x288 with 1 Axes>"
      ]
     },
     "metadata": {
      "needs_background": "light"
     },
     "output_type": "display_data"
    }
   ],
   "source": [
    "sns.countplot(x=\"IMMUNOCOMPROMISED\", hue=\"ICU\", data=final_data)\n",
    "\n",
    "## Immunocompromised or non-immunocompromised does not make a significant difference, the distribution \n",
    "## looks similar for both, we cannot make any claims as the people with some immunocompromised conditions\n",
    "## are fewer than ones with such condition."
   ]
  },
  {
   "cell_type": "markdown",
   "metadata": {
    "papermill": {
     "duration": 0.045923,
     "end_time": "2021-02-24T07:09:39.228537",
     "exception": false,
     "start_time": "2021-02-24T07:09:39.182614",
     "status": "completed"
    },
    "tags": []
   },
   "source": [
    "### OTHER"
   ]
  },
  {
   "cell_type": "code",
   "execution_count": 28,
   "metadata": {
    "execution": {
     "iopub.execute_input": "2021-02-24T07:09:39.329361Z",
     "iopub.status.busy": "2021-02-24T07:09:39.328783Z",
     "iopub.status.idle": "2021-02-24T07:09:39.492594Z",
     "shell.execute_reply": "2021-02-24T07:09:39.492043Z"
    },
    "papermill": {
     "duration": 0.217511,
     "end_time": "2021-02-24T07:09:39.492846",
     "exception": false,
     "start_time": "2021-02-24T07:09:39.275335",
     "status": "completed"
    },
    "tags": []
   },
   "outputs": [
    {
     "data": {
      "text/plain": [
       "<AxesSubplot:xlabel='OTHER', ylabel='count'>"
      ]
     },
     "execution_count": 28,
     "metadata": {},
     "output_type": "execute_result"
    },
    {
     "data": {
      "image/png": "[encoded data removed]",
      "text/plain": [
       "<Figure size 432x288 with 1 Axes>"
      ]
     },
     "metadata": {
      "needs_background": "light"
     },
     "output_type": "display_data"
    }
   ],
   "source": [
    "sns.countplot(x=\"OTHER\", hue=\"ICU\", data=final_data)"
   ]
  },
  {
   "cell_type": "markdown",
   "metadata": {
    "papermill": {
     "duration": 0.04716,
     "end_time": "2021-02-24T07:09:39.587534",
     "exception": false,
     "start_time": "2021-02-24T07:09:39.540374",
     "status": "completed"
    },
    "tags": []
   },
   "source": [
    "## Analysis for other vital signs"
   ]
  },
  {
   "cell_type": "code",
   "execution_count": 29,
   "metadata": {
    "execution": {
     "iopub.execute_input": "2021-02-24T07:09:39.689334Z",
     "iopub.status.busy": "2021-02-24T07:09:39.688693Z",
     "iopub.status.idle": "2021-02-24T07:09:39.691627Z",
     "shell.execute_reply": "2021-02-24T07:09:39.691081Z"
    },
    "papermill": {
     "duration": 0.057171,
     "end_time": "2021-02-24T07:09:39.691771",
     "exception": false,
     "start_time": "2021-02-24T07:09:39.634600",
     "status": "completed"
    },
    "tags": []
   },
   "outputs": [],
   "source": [
    "vital_signs = final_data.columns[13:]\n",
    "vital_signs_df = final_data[vital_signs]"
   ]
  },
  {
   "cell_type": "code",
   "execution_count": 30,
   "metadata": {
    "execution": {
     "iopub.execute_input": "2021-02-24T07:09:39.802038Z",
     "iopub.status.busy": "2021-02-24T07:09:39.794466Z",
     "iopub.status.idle": "2021-02-24T07:09:43.617932Z",
     "shell.execute_reply": "2021-02-24T07:09:43.618342Z"
    },
    "papermill": {
     "duration": 3.877637,
     "end_time": "2021-02-24T07:09:43.618531",
     "exception": false,
     "start_time": "2021-02-24T07:09:39.740894",
     "status": "completed"
    },
    "tags": []
   },
   "outputs": [
    {
     "data": {
      "image/png": "[encoded data removed]",
      "text/plain": [
       "<Figure size 1656x1656 with 2 Axes>"
      ]
     },
     "metadata": {
      "needs_background": "light"
     },
     "output_type": "display_data"
    }
   ],
   "source": [
    "f,ax = plt.subplots(figsize=(23,23))\n",
    "sns.heatmap(vital_signs_df.drop(columns=['ICU']).corr())\n",
    "plt.show()"
   ]
  },
  {
   "cell_type": "code",
   "execution_count": 31,
   "metadata": {
    "execution": {
     "iopub.execute_input": "2021-02-24T07:09:43.727835Z",
     "iopub.status.busy": "2021-02-24T07:09:43.726953Z",
     "iopub.status.idle": "2021-02-24T07:09:43.835416Z",
     "shell.execute_reply": "2021-02-24T07:09:43.834716Z"
    },
    "papermill": {
     "duration": 0.165036,
     "end_time": "2021-02-24T07:09:43.835731",
     "exception": false,
     "start_time": "2021-02-24T07:09:43.670695",
     "status": "completed"
    },
    "tags": []
   },
   "outputs": [],
   "source": [
    "rows_list = []\n",
    "for f in vital_signs:\n",
    "    v1 = vital_signs_df[ vital_signs_df['ICU']==1 ][f].var()\n",
    "    v0 = vital_signs_df[ vital_signs_df['ICU']==0 ][f].var()\n",
    "    dict1 = {\n",
    "        'feature' : f,\n",
    "        'icu' : v1,\n",
    "        'non-icu' : v0\n",
    "    }\n",
    "    rows_list.append(dict1)\n",
    "    \n",
    "var_vital_signs = pd.DataFrame(rows_list) "
   ]
  },
  {
   "cell_type": "code",
   "execution_count": 32,
   "metadata": {
    "execution": {
     "iopub.execute_input": "2021-02-24T07:09:43.946430Z",
     "iopub.status.busy": "2021-02-24T07:09:43.945842Z",
     "iopub.status.idle": "2021-02-24T07:09:43.966178Z",
     "shell.execute_reply": "2021-02-24T07:09:43.966694Z"
    },
    "papermill": {
     "duration": 0.077969,
     "end_time": "2021-02-24T07:09:43.966857",
     "exception": false,
     "start_time": "2021-02-24T07:09:43.888888",
     "status": "completed"
    },
    "tags": []
   },
   "outputs": [
    {
     "data": {
      "text/html": [
       "<div>\n",
       "<style scoped>\n",
       "    .dataframe tbody tr th:only-of-type {\n",
       "        vertical-align: middle;\n",
       "    }\n",
       "\n",
       "    .dataframe tbody tr th {\n",
       "        vertical-align: top;\n",
       "    }\n",
       "\n",
       "    .dataframe thead th {\n",
       "        text-align: right;\n",
       "    }\n",
       "</style>\n",
       "<table border=\"1\" class=\"dataframe\">\n",
       "  <thead>\n",
       "    <tr style=\"text-align: right;\">\n",
       "      <th></th>\n",
       "      <th>feature</th>\n",
       "      <th>icu</th>\n",
       "      <th>non-icu</th>\n",
       "    </tr>\n",
       "  </thead>\n",
       "  <tbody>\n",
       "    <tr>\n",
       "      <th>0</th>\n",
       "      <td>ALBUMIN_MEDIAN</td>\n",
       "      <td>0.037853</td>\n",
       "      <td>0.008480</td>\n",
       "    </tr>\n",
       "    <tr>\n",
       "      <th>1</th>\n",
       "      <td>BE_ARTERIAL_MEDIAN</td>\n",
       "      <td>0.012658</td>\n",
       "      <td>0.000030</td>\n",
       "    </tr>\n",
       "    <tr>\n",
       "      <th>2</th>\n",
       "      <td>BE_VENOUS_MEDIAN</td>\n",
       "      <td>0.022055</td>\n",
       "      <td>0.006649</td>\n",
       "    </tr>\n",
       "    <tr>\n",
       "      <th>3</th>\n",
       "      <td>BIC_ARTERIAL_MEDIAN</td>\n",
       "      <td>0.006721</td>\n",
       "      <td>0.000001</td>\n",
       "    </tr>\n",
       "    <tr>\n",
       "      <th>4</th>\n",
       "      <td>BIC_VENOUS_MEDIAN</td>\n",
       "      <td>0.016308</td>\n",
       "      <td>0.002710</td>\n",
       "    </tr>\n",
       "    <tr>\n",
       "      <th>5</th>\n",
       "      <td>BILLIRUBIN_MEDIAN</td>\n",
       "      <td>0.006228</td>\n",
       "      <td>0.000533</td>\n",
       "    </tr>\n",
       "    <tr>\n",
       "      <th>6</th>\n",
       "      <td>BLAST_MEDIAN</td>\n",
       "      <td>0.020326</td>\n",
       "      <td>0.000000</td>\n",
       "    </tr>\n",
       "    <tr>\n",
       "      <th>7</th>\n",
       "      <td>CALCIUM_MEDIAN</td>\n",
       "      <td>0.013929</td>\n",
       "      <td>0.003506</td>\n",
       "    </tr>\n",
       "    <tr>\n",
       "      <th>8</th>\n",
       "      <td>CREATININ_MEDIAN</td>\n",
       "      <td>0.031953</td>\n",
       "      <td>0.000916</td>\n",
       "    </tr>\n",
       "    <tr>\n",
       "      <th>9</th>\n",
       "      <td>FFA_MEDIAN</td>\n",
       "      <td>0.030258</td>\n",
       "      <td>0.015622</td>\n",
       "    </tr>\n",
       "    <tr>\n",
       "      <th>10</th>\n",
       "      <td>GGT_MEDIAN</td>\n",
       "      <td>0.025451</td>\n",
       "      <td>0.008309</td>\n",
       "    </tr>\n",
       "    <tr>\n",
       "      <th>11</th>\n",
       "      <td>GLUCOSE_MEDIAN</td>\n",
       "      <td>0.015702</td>\n",
       "      <td>0.004372</td>\n",
       "    </tr>\n",
       "    <tr>\n",
       "      <th>12</th>\n",
       "      <td>HEMATOCRITE_MEDIAN</td>\n",
       "      <td>0.049031</td>\n",
       "      <td>0.038356</td>\n",
       "    </tr>\n",
       "    <tr>\n",
       "      <th>13</th>\n",
       "      <td>HEMOGLOBIN_MEDIAN</td>\n",
       "      <td>0.055083</td>\n",
       "      <td>0.041708</td>\n",
       "    </tr>\n",
       "    <tr>\n",
       "      <th>14</th>\n",
       "      <td>INR_MEDIAN</td>\n",
       "      <td>0.003633</td>\n",
       "      <td>0.001345</td>\n",
       "    </tr>\n",
       "    <tr>\n",
       "      <th>15</th>\n",
       "      <td>LACTATE_MEDIAN</td>\n",
       "      <td>0.616348</td>\n",
       "      <td>0.370298</td>\n",
       "    </tr>\n",
       "    <tr>\n",
       "      <th>16</th>\n",
       "      <td>LEUKOCYTES_MEDIAN</td>\n",
       "      <td>0.019347</td>\n",
       "      <td>0.008972</td>\n",
       "    </tr>\n",
       "    <tr>\n",
       "      <th>17</th>\n",
       "      <td>LINFOCITOS_MEDIAN</td>\n",
       "      <td>0.019755</td>\n",
       "      <td>0.016840</td>\n",
       "    </tr>\n",
       "    <tr>\n",
       "      <th>18</th>\n",
       "      <td>NEUTROPHILES_MEDIAN</td>\n",
       "      <td>0.019372</td>\n",
       "      <td>0.007587</td>\n",
       "    </tr>\n",
       "    <tr>\n",
       "      <th>19</th>\n",
       "      <td>P02_ARTERIAL_MEDIAN</td>\n",
       "      <td>0.018100</td>\n",
       "      <td>0.000318</td>\n",
       "    </tr>\n",
       "    <tr>\n",
       "      <th>20</th>\n",
       "      <td>P02_VENOUS_MEDIAN</td>\n",
       "      <td>0.019585</td>\n",
       "      <td>0.013899</td>\n",
       "    </tr>\n",
       "    <tr>\n",
       "      <th>21</th>\n",
       "      <td>PC02_ARTERIAL_MEDIAN</td>\n",
       "      <td>0.004711</td>\n",
       "      <td>0.000017</td>\n",
       "    </tr>\n",
       "    <tr>\n",
       "      <th>22</th>\n",
       "      <td>PC02_VENOUS_MEDIAN</td>\n",
       "      <td>0.009786</td>\n",
       "      <td>0.001042</td>\n",
       "    </tr>\n",
       "    <tr>\n",
       "      <th>23</th>\n",
       "      <td>PCR_MEDIAN</td>\n",
       "      <td>0.061343</td>\n",
       "      <td>0.025174</td>\n",
       "    </tr>\n",
       "    <tr>\n",
       "      <th>24</th>\n",
       "      <td>PH_ARTERIAL_MEDIAN</td>\n",
       "      <td>0.009873</td>\n",
       "      <td>0.000165</td>\n",
       "    </tr>\n",
       "    <tr>\n",
       "      <th>25</th>\n",
       "      <td>PH_VENOUS_MEDIAN</td>\n",
       "      <td>0.016130</td>\n",
       "      <td>0.003566</td>\n",
       "    </tr>\n",
       "    <tr>\n",
       "      <th>26</th>\n",
       "      <td>PLATELETS_MEDIAN</td>\n",
       "      <td>0.050847</td>\n",
       "      <td>0.033298</td>\n",
       "    </tr>\n",
       "    <tr>\n",
       "      <th>27</th>\n",
       "      <td>POTASSIUM_MEDIAN</td>\n",
       "      <td>0.037116</td>\n",
       "      <td>0.014155</td>\n",
       "    </tr>\n",
       "    <tr>\n",
       "      <th>28</th>\n",
       "      <td>SAT02_ARTERIAL_MEDIAN</td>\n",
       "      <td>0.023668</td>\n",
       "      <td>0.000057</td>\n",
       "    </tr>\n",
       "    <tr>\n",
       "      <th>29</th>\n",
       "      <td>SAT02_VENOUS_MEDIAN</td>\n",
       "      <td>0.108222</td>\n",
       "      <td>0.047207</td>\n",
       "    </tr>\n",
       "    <tr>\n",
       "      <th>30</th>\n",
       "      <td>SODIUM_MEDIAN</td>\n",
       "      <td>0.042414</td>\n",
       "      <td>0.022878</td>\n",
       "    </tr>\n",
       "    <tr>\n",
       "      <th>31</th>\n",
       "      <td>TGO_MEDIAN</td>\n",
       "      <td>0.000489</td>\n",
       "      <td>0.000051</td>\n",
       "    </tr>\n",
       "    <tr>\n",
       "      <th>32</th>\n",
       "      <td>TGP_MEDIAN</td>\n",
       "      <td>0.000333</td>\n",
       "      <td>0.000139</td>\n",
       "    </tr>\n",
       "    <tr>\n",
       "      <th>33</th>\n",
       "      <td>TTPA_MEDIAN</td>\n",
       "      <td>0.006465</td>\n",
       "      <td>0.001281</td>\n",
       "    </tr>\n",
       "    <tr>\n",
       "      <th>34</th>\n",
       "      <td>UREA_MEDIAN</td>\n",
       "      <td>0.023690</td>\n",
       "      <td>0.003537</td>\n",
       "    </tr>\n",
       "    <tr>\n",
       "      <th>35</th>\n",
       "      <td>DIMER_MEDIAN</td>\n",
       "      <td>0.024158</td>\n",
       "      <td>0.008614</td>\n",
       "    </tr>\n",
       "    <tr>\n",
       "      <th>36</th>\n",
       "      <td>BLOODPRESSURE_DIASTOLIC_MEAN</td>\n",
       "      <td>0.057792</td>\n",
       "      <td>0.037290</td>\n",
       "    </tr>\n",
       "    <tr>\n",
       "      <th>37</th>\n",
       "      <td>BLOODPRESSURE_SISTOLIC_MEAN</td>\n",
       "      <td>0.089419</td>\n",
       "      <td>0.044456</td>\n",
       "    </tr>\n",
       "    <tr>\n",
       "      <th>38</th>\n",
       "      <td>HEART_RATE_MEAN</td>\n",
       "      <td>0.076581</td>\n",
       "      <td>0.050768</td>\n",
       "    </tr>\n",
       "    <tr>\n",
       "      <th>39</th>\n",
       "      <td>RESPIRATORY_RATE_MEAN</td>\n",
       "      <td>0.048169</td>\n",
       "      <td>0.021251</td>\n",
       "    </tr>\n",
       "    <tr>\n",
       "      <th>40</th>\n",
       "      <td>TEMPERATURE_MEAN</td>\n",
       "      <td>0.062109</td>\n",
       "      <td>0.044296</td>\n",
       "    </tr>\n",
       "    <tr>\n",
       "      <th>41</th>\n",
       "      <td>OXYGEN_SATURATION_MEAN</td>\n",
       "      <td>0.036275</td>\n",
       "      <td>0.007702</td>\n",
       "    </tr>\n",
       "    <tr>\n",
       "      <th>42</th>\n",
       "      <td>BLOODPRESSURE_DIASTOLIC_MEDIAN</td>\n",
       "      <td>0.059315</td>\n",
       "      <td>0.038676</td>\n",
       "    </tr>\n",
       "    <tr>\n",
       "      <th>43</th>\n",
       "      <td>BLOODPRESSURE_SISTOLIC_MEDIAN</td>\n",
       "      <td>0.090096</td>\n",
       "      <td>0.045112</td>\n",
       "    </tr>\n",
       "    <tr>\n",
       "      <th>44</th>\n",
       "      <td>HEART_RATE_MEDIAN</td>\n",
       "      <td>0.077907</td>\n",
       "      <td>0.057660</td>\n",
       "    </tr>\n",
       "    <tr>\n",
       "      <th>45</th>\n",
       "      <td>RESPIRATORY_RATE_MEDIAN</td>\n",
       "      <td>0.051585</td>\n",
       "      <td>0.021681</td>\n",
       "    </tr>\n",
       "    <tr>\n",
       "      <th>46</th>\n",
       "      <td>TEMPERATURE_MEDIAN</td>\n",
       "      <td>0.063731</td>\n",
       "      <td>0.045228</td>\n",
       "    </tr>\n",
       "    <tr>\n",
       "      <th>47</th>\n",
       "      <td>OXYGEN_SATURATION_MEDIAN</td>\n",
       "      <td>0.036958</td>\n",
       "      <td>0.007502</td>\n",
       "    </tr>\n",
       "    <tr>\n",
       "      <th>48</th>\n",
       "      <td>BLOODPRESSURE_DIASTOLIC_MIN</td>\n",
       "      <td>0.050354</td>\n",
       "      <td>0.031468</td>\n",
       "    </tr>\n",
       "    <tr>\n",
       "      <th>49</th>\n",
       "      <td>BLOODPRESSURE_SISTOLIC_MIN</td>\n",
       "      <td>0.067309</td>\n",
       "      <td>0.031609</td>\n",
       "    </tr>\n",
       "    <tr>\n",
       "      <th>50</th>\n",
       "      <td>HEART_RATE_MIN</td>\n",
       "      <td>0.071974</td>\n",
       "      <td>0.047048</td>\n",
       "    </tr>\n",
       "    <tr>\n",
       "      <th>51</th>\n",
       "      <td>RESPIRATORY_RATE_MIN</td>\n",
       "      <td>0.065980</td>\n",
       "      <td>0.025825</td>\n",
       "    </tr>\n",
       "    <tr>\n",
       "      <th>52</th>\n",
       "      <td>TEMPERATURE_MIN</td>\n",
       "      <td>0.044157</td>\n",
       "      <td>0.019495</td>\n",
       "    </tr>\n",
       "    <tr>\n",
       "      <th>53</th>\n",
       "      <td>OXYGEN_SATURATION_MIN</td>\n",
       "      <td>0.037073</td>\n",
       "      <td>0.012027</td>\n",
       "    </tr>\n",
       "    <tr>\n",
       "      <th>54</th>\n",
       "      <td>BLOODPRESSURE_DIASTOLIC_MAX</td>\n",
       "      <td>0.045090</td>\n",
       "      <td>0.024633</td>\n",
       "    </tr>\n",
       "    <tr>\n",
       "      <th>55</th>\n",
       "      <td>BLOODPRESSURE_SISTOLIC_MAX</td>\n",
       "      <td>0.059501</td>\n",
       "      <td>0.026252</td>\n",
       "    </tr>\n",
       "    <tr>\n",
       "      <th>56</th>\n",
       "      <td>HEART_RATE_MAX</td>\n",
       "      <td>0.068907</td>\n",
       "      <td>0.034076</td>\n",
       "    </tr>\n",
       "    <tr>\n",
       "      <th>57</th>\n",
       "      <td>RESPIRATORY_RATE_MAX</td>\n",
       "      <td>0.079662</td>\n",
       "      <td>0.023831</td>\n",
       "    </tr>\n",
       "    <tr>\n",
       "      <th>58</th>\n",
       "      <td>TEMPERATURE_MAX</td>\n",
       "      <td>0.046301</td>\n",
       "      <td>0.039222</td>\n",
       "    </tr>\n",
       "    <tr>\n",
       "      <th>59</th>\n",
       "      <td>OXYGEN_SATURATION_MAX</td>\n",
       "      <td>0.038214</td>\n",
       "      <td>0.007187</td>\n",
       "    </tr>\n",
       "    <tr>\n",
       "      <th>60</th>\n",
       "      <td>BLOODPRESSURE_DIASTOLIC_DIFF</td>\n",
       "      <td>0.048231</td>\n",
       "      <td>0.020254</td>\n",
       "    </tr>\n",
       "    <tr>\n",
       "      <th>61</th>\n",
       "      <td>BLOODPRESSURE_SISTOLIC_DIFF</td>\n",
       "      <td>0.059662</td>\n",
       "      <td>0.015499</td>\n",
       "    </tr>\n",
       "    <tr>\n",
       "      <th>62</th>\n",
       "      <td>HEART_RATE_DIFF</td>\n",
       "      <td>0.051596</td>\n",
       "      <td>0.019973</td>\n",
       "    </tr>\n",
       "    <tr>\n",
       "      <th>63</th>\n",
       "      <td>RESPIRATORY_RATE_DIFF</td>\n",
       "      <td>0.087804</td>\n",
       "      <td>0.010872</td>\n",
       "    </tr>\n",
       "    <tr>\n",
       "      <th>64</th>\n",
       "      <td>TEMPERATURE_DIFF</td>\n",
       "      <td>0.046586</td>\n",
       "      <td>0.016601</td>\n",
       "    </tr>\n",
       "    <tr>\n",
       "      <th>65</th>\n",
       "      <td>OXYGEN_SATURATION_DIFF</td>\n",
       "      <td>0.036376</td>\n",
       "      <td>0.012389</td>\n",
       "    </tr>\n",
       "    <tr>\n",
       "      <th>66</th>\n",
       "      <td>BLOODPRESSURE_DIASTOLIC_DIFF_REL</td>\n",
       "      <td>0.039945</td>\n",
       "      <td>0.013379</td>\n",
       "    </tr>\n",
       "    <tr>\n",
       "      <th>67</th>\n",
       "      <td>BLOODPRESSURE_SISTOLIC_DIFF_REL</td>\n",
       "      <td>0.062506</td>\n",
       "      <td>0.017351</td>\n",
       "    </tr>\n",
       "    <tr>\n",
       "      <th>68</th>\n",
       "      <td>HEART_RATE_DIFF_REL</td>\n",
       "      <td>0.024816</td>\n",
       "      <td>0.009155</td>\n",
       "    </tr>\n",
       "    <tr>\n",
       "      <th>69</th>\n",
       "      <td>RESPIRATORY_RATE_DIFF_REL</td>\n",
       "      <td>0.069709</td>\n",
       "      <td>0.011429</td>\n",
       "    </tr>\n",
       "    <tr>\n",
       "      <th>70</th>\n",
       "      <td>TEMPERATURE_DIFF_REL</td>\n",
       "      <td>0.046197</td>\n",
       "      <td>0.016287</td>\n",
       "    </tr>\n",
       "    <tr>\n",
       "      <th>71</th>\n",
       "      <td>OXYGEN_SATURATION_DIFF_REL</td>\n",
       "      <td>0.036633</td>\n",
       "      <td>0.012297</td>\n",
       "    </tr>\n",
       "    <tr>\n",
       "      <th>72</th>\n",
       "      <td>ICU</td>\n",
       "      <td>0.000000</td>\n",
       "      <td>0.000000</td>\n",
       "    </tr>\n",
       "  </tbody>\n",
       "</table>\n",
       "</div>"
      ],
      "text/plain": [
       "                             feature       icu   non-icu\n",
       "0                     ALBUMIN_MEDIAN  0.037853  0.008480\n",
       "1                 BE_ARTERIAL_MEDIAN  0.012658  0.000030\n",
       "2                   BE_VENOUS_MEDIAN  0.022055  0.006649\n",
       "3                BIC_ARTERIAL_MEDIAN  0.006721  0.000001\n",
       "4                  BIC_VENOUS_MEDIAN  0.016308  0.002710\n",
       "5                  BILLIRUBIN_MEDIAN  0.006228  0.000533\n",
       "6                       BLAST_MEDIAN  0.020326  0.000000\n",
       "7                     CALCIUM_MEDIAN  0.013929  0.003506\n",
       "8                   CREATININ_MEDIAN  0.031953  0.000916\n",
       "9                         FFA_MEDIAN  0.030258  0.015622\n",
       "10                        GGT_MEDIAN  0.025451  0.008309\n",
       "11                    GLUCOSE_MEDIAN  0.015702  0.004372\n",
       "12                HEMATOCRITE_MEDIAN  0.049031  0.038356\n",
       "13                 HEMOGLOBIN_MEDIAN  0.055083  0.041708\n",
       "14                        INR_MEDIAN  0.003633  0.001345\n",
       "15                    LACTATE_MEDIAN  0.616348  0.370298\n",
       "16                 LEUKOCYTES_MEDIAN  0.019347  0.008972\n",
       "17                 LINFOCITOS_MEDIAN  0.019755  0.016840\n",
       "18               NEUTROPHILES_MEDIAN  0.019372  0.007587\n",
       "19               P02_ARTERIAL_MEDIAN  0.018100  0.000318\n",
       "20                 P02_VENOUS_MEDIAN  0.019585  0.013899\n",
       "21              PC02_ARTERIAL_MEDIAN  0.004711  0.000017\n",
       "22                PC02_VENOUS_MEDIAN  0.009786  0.001042\n",
       "23                        PCR_MEDIAN  0.061343  0.025174\n",
       "24                PH_ARTERIAL_MEDIAN  0.009873  0.000165\n",
       "25                  PH_VENOUS_MEDIAN  0.016130  0.003566\n",
       "26                  PLATELETS_MEDIAN  0.050847  0.033298\n",
       "27                  POTASSIUM_MEDIAN  0.037116  0.014155\n",
       "28             SAT02_ARTERIAL_MEDIAN  0.023668  0.000057\n",
       "29               SAT02_VENOUS_MEDIAN  0.108222  0.047207\n",
       "30                     SODIUM_MEDIAN  0.042414  0.022878\n",
       "31                        TGO_MEDIAN  0.000489  0.000051\n",
       "32                        TGP_MEDIAN  0.000333  0.000139\n",
       "33                       TTPA_MEDIAN  0.006465  0.001281\n",
       "34                       UREA_MEDIAN  0.023690  0.003537\n",
       "35                      DIMER_MEDIAN  0.024158  0.008614\n",
       "36      BLOODPRESSURE_DIASTOLIC_MEAN  0.057792  0.037290\n",
       "37       BLOODPRESSURE_SISTOLIC_MEAN  0.089419  0.044456\n",
       "38                   HEART_RATE_MEAN  0.076581  0.050768\n",
       "39             RESPIRATORY_RATE_MEAN  0.048169  0.021251\n",
       "40                  TEMPERATURE_MEAN  0.062109  0.044296\n",
       "41            OXYGEN_SATURATION_MEAN  0.036275  0.007702\n",
       "42    BLOODPRESSURE_DIASTOLIC_MEDIAN  0.059315  0.038676\n",
       "43     BLOODPRESSURE_SISTOLIC_MEDIAN  0.090096  0.045112\n",
       "44                 HEART_RATE_MEDIAN  0.077907  0.057660\n",
       "45           RESPIRATORY_RATE_MEDIAN  0.051585  0.021681\n",
       "46                TEMPERATURE_MEDIAN  0.063731  0.045228\n",
       "47          OXYGEN_SATURATION_MEDIAN  0.036958  0.007502\n",
       "48       BLOODPRESSURE_DIASTOLIC_MIN  0.050354  0.031468\n",
       "49        BLOODPRESSURE_SISTOLIC_MIN  0.067309  0.031609\n",
       "50                    HEART_RATE_MIN  0.071974  0.047048\n",
       "51              RESPIRATORY_RATE_MIN  0.065980  0.025825\n",
       "52                   TEMPERATURE_MIN  0.044157  0.019495\n",
       "53             OXYGEN_SATURATION_MIN  0.037073  0.012027\n",
       "54       BLOODPRESSURE_DIASTOLIC_MAX  0.045090  0.024633\n",
       "55        BLOODPRESSURE_SISTOLIC_MAX  0.059501  0.026252\n",
       "56                    HEART_RATE_MAX  0.068907  0.034076\n",
       "57              RESPIRATORY_RATE_MAX  0.079662  0.023831\n",
       "58                   TEMPERATURE_MAX  0.046301  0.039222\n",
       "59             OXYGEN_SATURATION_MAX  0.038214  0.007187\n",
       "60      BLOODPRESSURE_DIASTOLIC_DIFF  0.048231  0.020254\n",
       "61       BLOODPRESSURE_SISTOLIC_DIFF  0.059662  0.015499\n",
       "62                   HEART_RATE_DIFF  0.051596  0.019973\n",
       "63             RESPIRATORY_RATE_DIFF  0.087804  0.010872\n",
       "64                  TEMPERATURE_DIFF  0.046586  0.016601\n",
       "65            OXYGEN_SATURATION_DIFF  0.036376  0.012389\n",
       "66  BLOODPRESSURE_DIASTOLIC_DIFF_REL  0.039945  0.013379\n",
       "67   BLOODPRESSURE_SISTOLIC_DIFF_REL  0.062506  0.017351\n",
       "68               HEART_RATE_DIFF_REL  0.024816  0.009155\n",
       "69         RESPIRATORY_RATE_DIFF_REL  0.069709  0.011429\n",
       "70              TEMPERATURE_DIFF_REL  0.046197  0.016287\n",
       "71        OXYGEN_SATURATION_DIFF_REL  0.036633  0.012297\n",
       "72                               ICU  0.000000  0.000000"
      ]
     },
     "execution_count": 32,
     "metadata": {},
     "output_type": "execute_result"
    }
   ],
   "source": [
    "var_vital_signs"
   ]
  },
  {
   "cell_type": "code",
   "execution_count": 33,
   "metadata": {
    "execution": {
     "iopub.execute_input": "2021-02-24T07:09:44.079821Z",
     "iopub.status.busy": "2021-02-24T07:09:44.079148Z",
     "iopub.status.idle": "2021-02-24T07:09:45.521859Z",
     "shell.execute_reply": "2021-02-24T07:09:45.522318Z"
    },
    "papermill": {
     "duration": 1.499987,
     "end_time": "2021-02-24T07:09:45.522474",
     "exception": false,
     "start_time": "2021-02-24T07:09:44.022487",
     "status": "completed"
    },
    "tags": []
   },
   "outputs": [
    {
     "data": {
      "image/png": "[encoded data removed]",
      "text/plain": [
       "<Figure size 1440x576 with 1 Axes>"
      ]
     },
     "metadata": {
      "needs_background": "light"
     },
     "output_type": "display_data"
    }
   ],
   "source": [
    "fig = plt.subplots(figsize=(20,8))\n",
    "ax = sns.lineplot(data=var_vital_signs, x=\"feature\", y=\"icu\", color='r')\n",
    "sns.lineplot(data=var_vital_signs, x=\"feature\", y=\"non-icu\", color='g')\n",
    "plt.xticks(rotation=90)\n",
    "plt.show()\n",
    "\n",
    "## We can clearly see that the variance of vital signs for patients admitted in the icu varies drastically compared to that of the ones\n",
    "## not admitted to the ICU"
   ]
  },
  {
   "cell_type": "markdown",
   "metadata": {
    "papermill": {
     "duration": 0.057924,
     "end_time": "2021-02-24T07:09:45.638939",
     "exception": false,
     "start_time": "2021-02-24T07:09:45.581015",
     "status": "completed"
    },
    "tags": []
   },
   "source": [
    "### For example - ALBUMIN_MEDIAN"
   ]
  },
  {
   "cell_type": "code",
   "execution_count": 34,
   "metadata": {
    "execution": {
     "iopub.execute_input": "2021-02-24T07:09:45.781008Z",
     "iopub.status.busy": "2021-02-24T07:09:45.779407Z",
     "iopub.status.idle": "2021-02-24T07:09:45.927215Z",
     "shell.execute_reply": "2021-02-24T07:09:45.926774Z"
    },
    "papermill": {
     "duration": 0.229682,
     "end_time": "2021-02-24T07:09:45.927354",
     "exception": false,
     "start_time": "2021-02-24T07:09:45.697672",
     "status": "completed"
    },
    "tags": []
   },
   "outputs": [
    {
     "data": {
      "text/plain": [
       "<AxesSubplot:xlabel='GGT_MEDIAN', ylabel='Density'>"
      ]
     },
     "execution_count": 34,
     "metadata": {},
     "output_type": "execute_result"
    },
    {
     "data": {
      "image/png": "[encoded data removed]",
      "text/plain": [
       "<Figure size 432x288 with 1 Axes>"
      ]
     },
     "metadata": {
      "needs_background": "light"
     },
     "output_type": "display_data"
    }
   ],
   "source": [
    "sns.kdeplot(final_data[ final_data['ICU']==1 ]['GGT_MEDIAN'],color = \"red\")\n",
    "sns.kdeplot(final_data[ final_data['ICU']==0 ]['GGT_MEDIAN'],color = \"green\")\n",
    "\n",
    "## From the kde plot we can see the spread (variance) of the red plot (ICU) is more than the green one. "
   ]
  },
  {
   "cell_type": "markdown",
   "metadata": {
    "papermill": {
     "duration": 0.058839,
     "end_time": "2021-02-24T07:09:46.044589",
     "exception": false,
     "start_time": "2021-02-24T07:09:45.985750",
     "status": "completed"
    },
    "tags": []
   },
   "source": [
    "## Target variable balance"
   ]
  },
  {
   "cell_type": "code",
   "execution_count": 35,
   "metadata": {
    "execution": {
     "iopub.execute_input": "2021-02-24T07:09:46.184269Z",
     "iopub.status.busy": "2021-02-24T07:09:46.182290Z",
     "iopub.status.idle": "2021-02-24T07:09:46.279632Z",
     "shell.execute_reply": "2021-02-24T07:09:46.279039Z"
    },
    "papermill": {
     "duration": 0.177431,
     "end_time": "2021-02-24T07:09:46.279848",
     "exception": false,
     "start_time": "2021-02-24T07:09:46.102417",
     "status": "completed"
    },
    "tags": []
   },
   "outputs": [
    {
     "data": {
      "text/plain": [
       "<AxesSubplot:xlabel='ICU', ylabel='count'>"
      ]
     },
     "execution_count": 35,
     "metadata": {},
     "output_type": "execute_result"
    },
    {
     "data": {
      "image/png": "[encoded data removed]",
      "text/plain": [
       "<Figure size 432x288 with 1 Axes>"
      ]
     },
     "metadata": {
      "needs_background": "light"
     },
     "output_type": "display_data"
    }
   ],
   "source": [
    "sns.countplot(x=\"ICU\", data=final_data)\n",
    "\n",
    "## We have a balanced dataset, because the number of entries/rows/patients admitted to ICU and the number of entries not admitte to ICU \n",
    "## is almost equal.\n",
    "## Thus no imbalance exists for the target variable."
   ]
  },
  {
   "cell_type": "markdown",
   "metadata": {
    "papermill": {
     "duration": 0.057976,
     "end_time": "2021-02-24T07:09:46.396967",
     "exception": false,
     "start_time": "2021-02-24T07:09:46.338991",
     "status": "completed"
    },
    "tags": []
   },
   "source": [
    "### Exporting the preprocessed data for ML model training."
   ]
  },
  {
   "cell_type": "code",
   "execution_count": 36,
   "metadata": {
    "execution": {
     "iopub.execute_input": "2021-02-24T07:09:46.521139Z",
     "iopub.status.busy": "2021-02-24T07:09:46.520529Z",
     "iopub.status.idle": "2021-02-24T07:09:46.584079Z",
     "shell.execute_reply": "2021-02-24T07:09:46.583518Z"
    },
    "papermill": {
     "duration": 0.127516,
     "end_time": "2021-02-24T07:09:46.584219",
     "exception": false,
     "start_time": "2021-02-24T07:09:46.456703",
     "status": "completed"
    },
    "tags": []
   },
   "outputs": [],
   "source": [
    "final_data.to_csv('Covid_ICU_preprocessed.csv')"
   ]
  }
 ],
 "metadata": {
  "kernelspec": {
   "display_name": "Python 3",
   "language": "python",
   "name": "python3"
  },
  "language_info": {
   "codemirror_mode": {
    "name": "ipython",
    "version": 3
   },
   "file_extension": ".py",
   "mimetype": "text/x-python",
   "name": "python",
   "nbconvert_exporter": "python",
   "pygments_lexer": "ipython3",
   "version": "3.7.9"
  },
  "papermill": {
   "default_parameters": {},
   "duration": 59.961824,
   "end_time": "2021-02-24T07:09:47.353310",
   "environment_variables": {},
   "exception": null,
   "input_path": "__notebook__.ipynb",
   "output_path": "__notebook__.ipynb",
   "parameters": {},
   "start_time": "2021-02-24T07:08:47.391486",
   "version": "2.2.2"
  }
 },
 "nbformat": 4,
 "nbformat_minor": 4
}
